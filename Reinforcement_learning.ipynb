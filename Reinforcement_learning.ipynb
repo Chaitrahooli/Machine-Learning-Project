{
  "nbformat": 4,
  "nbformat_minor": 0,
  "metadata": {
    "colab": {
      "name": "Reinforcement learning.ipynb",
      "version": "0.3.2",
      "provenance": [],
      "collapsed_sections": [],
      "include_colab_link": true
    },
    "kernelspec": {
      "name": "python3",
      "display_name": "Python 3"
    }
  },
  "cells": [
    {
      "cell_type": "markdown",
      "metadata": {
        "id": "view-in-github",
        "colab_type": "text"
      },
      "source": [
        "<a href=\"https://colab.research.google.com/github/Chaitrahooli/Machine-Learning-Project/blob/master/Reinforcement_learning.ipynb\" target=\"_parent\"><img src=\"https://colab.research.google.com/assets/colab-badge.svg\" alt=\"Open In Colab\"/></a>"
      ]
    },
    {
      "cell_type": "markdown",
      "metadata": {
        "id": "yYolk3b1mnqh",
        "colab_type": "text"
      },
      "source": [
        "# Reinforcement Learning\n",
        "\n",
        "**Place an agent in one place of the room(0,1,2,3,4) and goal is to reach outside the room(5)**\n",
        "[About Q-learning](http://mnemstudio.org/ai/path/q_learning_tutorial.php)"
      ]
    },
    {
      "cell_type": "markdown",
      "metadata": {
        "id": "VTpc2Jqvnaxs",
        "colab_type": "text"
      },
      "source": [
        "**Step1:-Importing the laibraries**\n",
        "\n",
        "\n",
        "*   **pylab:-**pylab is a module that belongs to the python mathametics laibrary **Matplotlib**,pylab combines the numerical module numpy with the graphical plotting module pyplot\n",
        "*   **networkx:-**networkx is a python package for creation,manipulation and study of structure,dynamics and functions of complex network\n",
        "\n",
        "\n",
        "*   **numpy:-**numpy is a general purpose array processing package,It provides the high performance multidimentional array object,and tools for working with these arrays. \n",
        "\n",
        "\n",
        "\n",
        "\n"
      ]
    },
    {
      "cell_type": "code",
      "metadata": {
        "id": "lE8jRA5NnbdM",
        "colab_type": "code",
        "colab": {}
      },
      "source": [
        "import numpy as np"
      ],
      "execution_count": 0,
      "outputs": []
    },
    {
      "cell_type": "markdown",
      "metadata": {
        "id": "FT_ld0rbpl66",
        "colab_type": "text"
      },
      "source": [
        "**Step2:-Defining the Reward matrix and edges**\n"
      ]
    },
    {
      "cell_type": "code",
      "metadata": {
        "id": "MYfUYRlpIJRA",
        "colab_type": "code",
        "colab": {}
      },
      "source": [
        "edges=[(0,4),(4,5),(0,4),(4,3),(3,1),(1,5),(2,3),(3,1),(1,5),(2,3),(3,4),(4,5),(5,5),(5,1),(5,4),(4,3),(4,0),(3,2),(1,3),(3,2)]\n",
        "goal=5"
      ],
      "execution_count": 0,
      "outputs": []
    },
    {
      "cell_type": "code",
      "metadata": {
        "id": "fY5zslHrKI1A",
        "colab_type": "code",
        "colab": {
          "base_uri": "https://localhost:8080/",
          "height": 255
        },
        "outputId": "c17d3924-3175-425e-861e-e0f8f350119e"
      },
      "source": [
        "import pylab as pl\n",
        "import networkx as nx\n",
        "G = nx.Graph() \n",
        "G.add_edges_from(edges) \n",
        "pos = nx.spring_layout(G) \n",
        "nx.draw_networkx_nodes(G, pos) \n",
        "nx.draw_networkx_edges(G, pos) \n",
        "nx.draw_networkx_labels(G, pos) \n",
        "pl.show() "
      ],
      "execution_count": 152,
      "outputs": [
        {
          "output_type": "display_data",
          "data": {
            "image/png": "[encoded data removed]",
            "text/plain": [
              "<Figure size 432x288 with 1 Axes>"
            ]
          },
          "metadata": {
            "tags": []
          }
        }
      ]
    },
    {
      "cell_type": "markdown",
      "metadata": {
        "id": "HyheVaSTRJbT",
        "colab_type": "text"
      },
      "source": [
        "In the reward matrix -1 indicates that if there is a not path or edges between two nodes,0 indicates that if there is a path or edge between two nodes and 100 indicates that there is direct path between one node to the goal"
      ]
    },
    {
      "cell_type": "code",
      "metadata": {
        "id": "d18vudWMIVRO",
        "colab_type": "code",
        "outputId": "4afc44fb-b856-498f-cae9-3385bcabb6f5",
        "colab": {
          "base_uri": "https://localhost:8080/",
          "height": 119
        }
      },
      "source": [
        "MATRIX_SIZE = 6\n",
        "M = np.matrix(np.ones(shape =(MATRIX_SIZE, MATRIX_SIZE))) \n",
        "M *= -1\n",
        "  \n",
        "for point in edges: \n",
        "   # print(point) \n",
        "    if point[1] == goal: \n",
        "        M[point] = 100\n",
        "    else: \n",
        "        M[point] = 0\n",
        "  \n",
        "    if point[0] == goal: \n",
        "        M[point[::-1]] = 100\n",
        "    else: \n",
        "        M[point[::-1]]= 0\n",
        "        # reverse of point \n",
        "  \n",
        "M[goal, goal]= 100\n",
        "print(M) "
      ],
      "execution_count": 153,
      "outputs": [
        {
          "output_type": "stream",
          "text": [
            "[[ -1.  -1.  -1.  -1.   0.  -1.]\n",
            " [ -1.  -1.  -1.   0.  -1. 100.]\n",
            " [ -1.  -1.  -1.   0.  -1.  -1.]\n",
            " [ -1.   0.   0.  -1.   0.  -1.]\n",
            " [  0.  -1.  -1.   0.  -1. 100.]\n",
            " [ -1.   0.  -1.  -1.   0. 100.]]\n"
          ],
          "name": "stdout"
        }
      ]
    },
    {
      "cell_type": "markdown",
      "metadata": {
        "id": "HIbrQvlJp8Zp",
        "colab_type": "text"
      },
      "source": [
        "**Step3:-Defining the Q matrix and setup the learning parameter**\n",
        "\n",
        "\n",
        "*   **gamma:-** The gamma is a learning parameter and its value is in between 0 and 1,if the value of gamma is near to zero then it is nothing but exploitation,if the value of gamma is near to 1 then it is nothing but exploration\n",
        "*   **exploration:-**we gather more information that might lead us to the best decision for future\n",
        "\n",
        "\n",
        "*   **exploitation:-**we make best decision in the given current information\n",
        "\n",
        "here  Q-matrix is initially as zero \n",
        "\n",
        "\n",
        "\n"
      ]
    },
    {
      "cell_type": "code",
      "metadata": {
        "id": "5mMTDztcIg-Z",
        "colab_type": "code",
        "colab": {}
      },
      "source": [
        "gamma=0.75\n",
        "Q=np.matrix(np.zeros([MATRIX_SIZE,MATRIX_SIZE]))"
      ],
      "execution_count": 0,
      "outputs": []
    },
    {
      "cell_type": "markdown",
      "metadata": {
        "id": "1E4x1G9eqRNm",
        "colab_type": "text"
      },
      "source": [
        "**Step4:-Setup the initial state**\n",
        "\n",
        "initial state is nothing but from where the bot is started to move"
      ]
    },
    {
      "cell_type": "code",
      "metadata": {
        "id": "uyUNBRw3WlED",
        "colab_type": "code",
        "colab": {}
      },
      "source": [
        "initial_state=2"
      ],
      "execution_count": 0,
      "outputs": []
    },
    {
      "cell_type": "markdown",
      "metadata": {
        "id": "BW8wQVIeqb1a",
        "colab_type": "text"
      },
      "source": [
        "**Step5:-Defining the available actions from the current state**\n",
        "\n",
        "Let us consider the bot is in the state 2 then there is a two possibilities to reach the goal state,either it mones from(2->3->1->5) or it moves from(2->3->4->5) these are nothing but  possible available actions to reach the goal state "
      ]
    },
    {
      "cell_type": "code",
      "metadata": {
        "id": "LJzRLJxtJGQ3",
        "colab_type": "code",
        "colab": {}
      },
      "source": [
        "def available_actions(State):\n",
        "  current_state_row=M[State,]\n",
        "  available_action=np.where(current_state_row>=0)[1]\n",
        "  return available_action"
      ],
      "execution_count": 0,
      "outputs": []
    },
    {
      "cell_type": "code",
      "metadata": {
        "id": "_WotQuEETQB1",
        "colab_type": "code",
        "colab": {}
      },
      "source": [
        "available_action=available_actions(initial_state)"
      ],
      "execution_count": 0,
      "outputs": []
    },
    {
      "cell_type": "markdown",
      "metadata": {
        "id": "HgQIUaBsdd7H",
        "colab_type": "text"
      },
      "source": [
        "**Step6:-Choosen one of the available action randomly**\n",
        "\n",
        "Here an agent or bot can choose one available action randomly"
      ]
    },
    {
      "cell_type": "code",
      "metadata": {
        "id": "L9_utPcpWz92",
        "colab_type": "code",
        "colab": {}
      },
      "source": [
        "\n",
        "def sample_next_action(available_action_range):\n",
        "  next_action=int(np.random.choice(available_action,1))\n",
        "  return next_action"
      ],
      "execution_count": 0,
      "outputs": []
    },
    {
      "cell_type": "code",
      "metadata": {
        "id": "_cH9jbbUXj_g",
        "colab_type": "code",
        "colab": {}
      },
      "source": [
        "action=sample_next_action(available_action)"
      ],
      "execution_count": 0,
      "outputs": []
    },
    {
      "cell_type": "markdown",
      "metadata": {
        "id": "t24Q1BtZeRaL",
        "colab_type": "text"
      },
      "source": [
        "**Step7:-Update**\n",
        " \n",
        " here we have to update the Qmatrix for every actions reward gained by the bot"
      ]
    },
    {
      "cell_type": "code",
      "metadata": {
        "id": "d_RNUYDhXu0J",
        "colab_type": "code",
        "outputId": "c0f6affe-5663-4739-a950-7e7651a0fdc8",
        "colab": {
          "base_uri": "https://localhost:8080/",
          "height": 34
        }
      },
      "source": [
        "\n",
        "def update(current_state,action,gamma):\n",
        "  max_index=np.where(Q[action,]==np.max(Q[action,]))[1]\n",
        "  if max_index.shape[0]>1:\n",
        "    max_index=int(np.random.choice(max_index,size=1))\n",
        "  else:\n",
        "    max_index=int(max_index)\n",
        "  max_value=Q[action,max_index]\n",
        "  \n",
        "  Q[current_state,action]=M[current_state,action]+gamma*max_value\n",
        "  if(np.max(Q)>0):\n",
        "    return(np.sum(Q/np.max(Q)*100))\n",
        "  else:\n",
        "    return(0)\n",
        "update(initial_state,action,gamma)"
      ],
      "execution_count": 160,
      "outputs": [
        {
          "output_type": "execute_result",
          "data": {
            "text/plain": [
              "0"
            ]
          },
          "metadata": {
            "tags": []
          },
          "execution_count": 160
        }
      ]
    },
    {
      "cell_type": "markdown",
      "metadata": {
        "id": "2aGrNg_RgN98",
        "colab_type": "text"
      },
      "source": [
        "**Step8:-Training**\n",
        "\n",
        "Here we have train the bot around the 1000 iterations"
      ]
    },
    {
      "cell_type": "code",
      "metadata": {
        "id": "MqR0_yo2blxK",
        "colab_type": "code",
        "colab": {}
      },
      "source": [
        "Scores=[]\n",
        "for i in range(1000):\n",
        "  current_state=np.random.randint(0,int(Q.shape[0]))\n",
        "  available_action=available_actions(current_state)\n",
        "  action=sample_next_action(available_action)\n",
        "  scores=update(current_state,action,gamma)\n",
        "  Scores.append(scores)"
      ],
      "execution_count": 0,
      "outputs": []
    },
    {
      "cell_type": "markdown",
      "metadata": {
        "id": "5E7AkGFhghkR",
        "colab_type": "text"
      },
      "source": [
        "**Step9:-Testing**\n",
        "\n",
        "Finally in this step we have to evaluate the most efficiant path the bot can choosen to reach the goal state."
      ]
    },
    {
      "cell_type": "code",
      "metadata": {
        "id": "R8PXQqjUfIAx",
        "colab_type": "code",
        "outputId": "067df87c-3dba-4d2d-d9c2-0ae760006ea2",
        "colab": {
          "base_uri": "https://localhost:8080/",
          "height": 51
        }
      },
      "source": [
        "current_state=2\n",
        "steps=[current_state]\n",
        "while(current_state!=5):\n",
        "  next_step_index=np.where(Q[current_state,]==np.max(Q[current_state,]))[1]\n",
        "  if next_step_index.shape[0]>1:\n",
        "    next_step_index=int(np.random.choice(next_step_index,size=1))\n",
        "  else:\n",
        "    next_step_index=int(next_step_index)\n",
        "  steps.append(next_step_index)\n",
        "  current_state=next_step_index\n",
        "\n",
        "print('most efficiant path')\n",
        "print(steps)"
      ],
      "execution_count": 162,
      "outputs": [
        {
          "output_type": "stream",
          "text": [
            "most efficiant path\n",
            "[2, 3, 4, 5]\n"
          ],
          "name": "stdout"
        }
      ]
    },
    {
      "cell_type": "code",
      "metadata": {
        "id": "I3cHIlZSiIht",
        "colab_type": "code",
        "colab": {}
      },
      "source": [
        ""
      ],
      "execution_count": 0,
      "outputs": []
    }
  ]
}