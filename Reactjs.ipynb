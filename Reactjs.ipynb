{
  "nbformat": 4,
  "nbformat_minor": 0,
  "metadata": {
    "colab": {
      "provenance": [],
      "collapsed_sections": [],
      "authorship_tag": "ABX9TyP6IfVC7hl4pkx1dSgN9CbG",
      "include_colab_link": true
    },
    "kernelspec": {
      "name": "python3",
      "display_name": "Python 3"
    },
    "language_info": {
      "name": "python"
    }
  },
  "cells": [
    {
      "cell_type": "markdown",
      "metadata": {
        "id": "view-in-github",
        "colab_type": "text"
      },
      "source": [
        "<a href=\"https://colab.research.google.com/github/Chaitrahooli/Machine-Learning-Project/blob/master/Reactjs.ipynb\" target=\"_parent\"><img src=\"https://colab.research.google.com/assets/colab-badge.svg\" alt=\"Open In Colab\"/></a>"
      ]
    },
    {
      "cell_type": "markdown",
      "source": [
        "# **BASICS**\n",
        "\n",
        "**Differences between const,let and var**\n",
        "\n",
        "\n",
        "*   we can use var outside of the scope also\n",
        "*   we can use let within the scope only\n",
        "\n",
        "*   const means whose value remains fixed which couldn't changed\n",
        "\n",
        "**Install node js**: \n",
        "[click here](https://nodejs.org/en/download/) and \n",
        "**version** : node -v (v16.17.1) \n",
        "\n",
        "**Create React App:**\n",
        "\n",
        "commands: \n",
        "*   npm install -g create-react-app here npm stands for **node package manager** -g indicates install this package globally\n",
        "*   move to the directory and write a command **npx create-react-app first-app**  \n",
        "\n",
        "**Project Directory:**\n",
        "\n",
        "\n",
        "*   src - Folder where we put all the source code we write\n",
        "*   public - Folder which contains static files like images, music files\n",
        "\n",
        "\n",
        "*   node_modules - Folder which contains all of our project laibraries\n",
        "*   package.json - Records of our project dependencies and configure of projects\n",
        "\n",
        "\n",
        "*   package-lock.json - Records the extract version of the project that we install\n",
        "*   README.md - Instruction how to use this project\n",
        "\n",
        "Notes:  For running the project use command **npm start** and to stop use command **control+c**\n",
        "\n",
        "**import statements:**\n",
        "\n",
        "import React from 'react' means we import react laibrabry and assign that to React variable\n",
        "\n",
        "import ReactDOM from 'react-dom' means we import react-dom laibrary and assign that to ReactDOM variable\n",
        "\n",
        "\n",
        "\n",
        "\n",
        "\n",
        "\n",
        "\n",
        "\n",
        "\n",
        "\n",
        "\n",
        "\n"
      ],
      "metadata": {
        "id": "Me4l-t8XyeW_"
      }
    },
    {
      "cell_type": "markdown",
      "source": [
        "# **PROPS**\n",
        "\n",
        "*   **Component Nesting:** A component can be shown inside the another component\n",
        "*   **Component Reusability:** A Component can be reusable throught the application.\n",
        "\n",
        "\n",
        "*   **Component Configuration :** we should be configure a component when it is created\n",
        "\n",
        "\n",
        "\n",
        "\n",
        "\n"
      ],
      "metadata": {
        "id": "bhL79Sv434qT"
      }
    }
  ]
}