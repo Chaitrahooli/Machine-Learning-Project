{
 "cells": [
  {
   "cell_type": "markdown",
   "metadata": {},
   "source": [
    "# Natural Language Processing(NLP)\n",
    "\n",
    "Natural Language Processing(NLP) is a subfield of computer science that deals with Artificial Intelligence which enables the computer to understand and process the human language.\n",
    "\n",
    "One of the big challenge for us to develop the NLP application is computers can understand the structured data,but the human speech is unstructured data and often ambigious in nature\n",
    "\n",
    "Thus the main task of NLP would be to program computers for analyzing and processing huge amount the natural language data"
   ]
  },
  {
   "cell_type": "markdown",
   "metadata": {},
   "source": [
    "#  Importing the datasets\n",
    "- The [datasets](http://www.thecloudenabled.com/)contains the list of different courses,our problem is to recommend the course to the student of his/her interest.\n",
    "\n",
    "- In first step we import the pandas,pandas is powerfull python laibrary mainly used for data analysis.\n",
    "\n",
    "- Using pandas we can analyze Series and DataFrame"
   ]
  },
  {
   "cell_type": "code",
   "execution_count": 1,
   "metadata": {},
   "outputs": [],
   "source": [
    "import pandas as pd"
   ]
  },
  {
   "cell_type": "markdown",
   "metadata": {},
   "source": [
    "read_csv is the important pandas laibrary mainly used for read the csv file"
   ]
  },
  {
   "cell_type": "code",
   "execution_count": 2,
   "metadata": {},
   "outputs": [],
   "source": [
    "df=pd.read_csv('cloudenabled.csv')"
   ]
  },
  {
   "cell_type": "markdown",
   "metadata": {},
   "source": [
    "head() function is used to display the top five values of the datasets by default"
   ]
  },
  {
   "cell_type": "code",
   "execution_count": 3,
   "metadata": {},
   "outputs": [
    {
     "data": {
      "text/html": [
       "<div>\n",
       "<style scoped>\n",
       "    .dataframe tbody tr th:only-of-type {\n",
       "        vertical-align: middle;\n",
       "    }\n",
       "\n",
       "    .dataframe tbody tr th {\n",
       "        vertical-align: top;\n",
       "    }\n",
       "\n",
       "    .dataframe thead th {\n",
       "        text-align: right;\n",
       "    }\n",
       "</style>\n",
       "<table border=\"1\" class=\"dataframe\">\n",
       "  <thead>\n",
       "    <tr style=\"text-align: right;\">\n",
       "      <th></th>\n",
       "      <th>courses</th>\n",
       "      <th>course_topics</th>\n",
       "    </tr>\n",
       "  </thead>\n",
       "  <tbody>\n",
       "    <tr>\n",
       "      <th>0</th>\n",
       "      <td>Openstack</td>\n",
       "      <td>OpenStack ReleasesOpenStack Project Overview P...</td>\n",
       "    </tr>\n",
       "    <tr>\n",
       "      <th>1</th>\n",
       "      <td>Aws cloud_solution Architect</td>\n",
       "      <td>Overview Amazon Management ConsoleManagement A...</td>\n",
       "    </tr>\n",
       "    <tr>\n",
       "      <th>2</th>\n",
       "      <td>Aws developer Associate</td>\n",
       "      <td>Overview Amazon Management ConsoleManagement A...</td>\n",
       "    </tr>\n",
       "    <tr>\n",
       "      <th>3</th>\n",
       "      <td>Aws sysops Associate</td>\n",
       "      <td>Overview Amazon Management ConsoleManagement A...</td>\n",
       "    </tr>\n",
       "    <tr>\n",
       "      <th>4</th>\n",
       "      <td>Azure cloud Architect</td>\n",
       "      <td>Overview  Azure PortalManagement Activity and ...</td>\n",
       "    </tr>\n",
       "  </tbody>\n",
       "</table>\n",
       "</div>"
      ],
      "text/plain": [
       "                        courses  \\\n",
       "0                     Openstack   \n",
       "1  Aws cloud_solution Architect   \n",
       "2       Aws developer Associate   \n",
       "3          Aws sysops Associate   \n",
       "4         Azure cloud Architect   \n",
       "\n",
       "                                       course_topics  \n",
       "0  OpenStack ReleasesOpenStack Project Overview P...  \n",
       "1  Overview Amazon Management ConsoleManagement A...  \n",
       "2  Overview Amazon Management ConsoleManagement A...  \n",
       "3  Overview Amazon Management ConsoleManagement A...  \n",
       "4  Overview  Azure PortalManagement Activity and ...  "
      ]
     },
     "execution_count": 3,
     "metadata": {},
     "output_type": "execute_result"
    }
   ],
   "source": [
    "df.head()"
   ]
  },
  {
   "cell_type": "markdown",
   "metadata": {},
   "source": [
    "- Numpy is array processing package.It provides the high-performance multi-dimentional array objects. \n",
    "\n",
    "- nltk (natural language toolkit) is the leading platform for the human language data\n",
    "\n",
    "- corpus is large and structured set of machine readable text that have been produced in the natural communicative setting\n",
    "\n",
    "- tokenization is nothing but breaking the text and set of the text into the individual words or sentence.\n",
    "\n",
    "- word_tokenize()-split the text into individual words\n",
    "\n",
    "- sent_tokenize()-split the text into individual sentence"
   ]
  },
  {
   "cell_type": "code",
   "execution_count": 4,
   "metadata": {},
   "outputs": [],
   "source": [
    "import numpy as np\n",
    "from nltk.corpus import stopwords\n",
    "from nltk.stem import WordNetLemmatizer\n",
    "from sklearn.feature_extraction.text import CountVectorizer,TfidfVectorizer\n",
    "from nltk.tokenize import word_tokenize,sent_tokenize"
   ]
  },
  {
   "cell_type": "markdown",
   "metadata": {},
   "source": [
    "The 'shape' attribute of the numpy array returns the dimention of the numpy array,that means it has n rows and m columns."
   ]
  },
  {
   "cell_type": "code",
   "execution_count": 5,
   "metadata": {},
   "outputs": [
    {
     "data": {
      "text/plain": [
       "(18, 2)"
      ]
     },
     "execution_count": 5,
     "metadata": {},
     "output_type": "execute_result"
    }
   ],
   "source": [
    "df.shape"
   ]
  },
  {
   "cell_type": "markdown",
   "metadata": {},
   "source": [
    "- FreqDist is used to record the number of words within the text \n",
    "\n",
    "- value_counts() function returns the object containing counts of unique values.The resulting object will be in the descending order.by default excluding null values."
   ]
  },
  {
   "cell_type": "code",
   "execution_count": 6,
   "metadata": {},
   "outputs": [
    {
     "data": {
      "text/plain": [
       "nfrastructure-As-A-CodeSaltstack Components – 10000 feet overviewSaltstack serverSaltstack minionStatefileDeploy Centos-7  ServerSSH to Centos-7 ServerInstall  Saltstack master  on Centos7-serverConfigure Saltstack MasterDeploy Ubuntu serverSsh to Ubuntu serverInstall and configure saltstack minion  on UbuntuRequest certificate with Saltstack masterApprove certificate from master Deploy RHEL serverSsh to RHEL serverInstall and configure saltstack minion  on RHEL7Request certificate with Saltstack masterApprove certificate from masterDeploy Windows server 2016 serverRDP to Win -2016 serverInstall and configure saltstack minion for widnows node managmentCreate a statefile for  ubuntuAdd code to automate install of software packageAdd code to automate start of serviceAdd code to push files to nodesAdd code to manage users and groups                                                    1\n",
       "Infrastructure-As-A-CodeChef Components – 10000 feet overviewChef ServerHosted Chef ServerChef Development kitChef NodesRecipesCookbooksChef AnalyticsChef Push job serverDeploy Ubuntu 14.04 ServerSSH to Ubuntu ServerInstall chef-server on Ubuntu 14.04 linux serverInstall chef-manage on chef-serverInstall and configure Chef-ReportingCreate a user account on hosted chef serverCreate organization on hosted chef server Download chef-starter kitDeploy a Ubuntu 14.04 serverSsh to Ubuntu serverInstall and configure Chef development kitConfigure knife to interact with your own Chef-serverConfigure knife to interact with your Hosted Chef-serverConfigure SSL based connection to chef serverInstall and configure Chef development kitSetup environment variablesConfigure knife to interact with your own Chef-server                                                                                   1\n",
       "Overview Azure PortalManagement Activity and Billing overviewAzure PricingAn overview of AzureAzure Virtual Machines- An overviewAzure Block Storage- An OverviewAzure Endpoints -An OverviewAzure Roles -An overviewAzure SQL Azure – An overviewAzure HD Insight –An overviewAzure websites – AN overviewAzure Networking – AN overviewLaunch Windows server 2012 R2 InstanceDownload RDP shortcut clientconnect to the Windows 2012 Virtual machineUpgrade your Virtual machine to hardware planTerminate the Windows server 2012 InstanceWhy endpoints are importantEdit EndpointsAdd endpointsRemove endpointsrCreate Block storage volumeAttach volume to windows Server 2012R2Format the volume using NTFS from VMDetach and delete volume                                                                                                                                                                            1\n",
       "Introduction to exam Introduction to examOverview of 30 services – Exam perspectiveExam tips on 30 servicesPoints to rememberThe class will be divided into 4 teams, and each team will work one case study and come up with solution based on technical and Business requirements of the customerThe class will be divided into 4 teams, and each team will work one case study and come up with solution based on technical and Business requirements of the customerTeam 1 Will present the case study to entire audience and also outline technical and Business requirements of the customerPrepare a solution architecture diagram and present to the classDescribe what service of Google will be leveraged in the solutionDescribe the role of each one of the services proposed in the solution                                                                                                                     1\n",
       " What and why of  DevopsDevops Tools – Overview and UsecaseSource Control Management (SCM Tools)Continuous IntegrationStatic ode Analysis ToolStorage ArtifactsContinuous DeploymentContainerizationConfiguration ManagementGithub – Create an account and fork your application codeGit clone the github code , Use maven to compile and package java source codeDeploy .jar file manuallyJenkins – Deploy Jenkins on Ubuntu 14.04 server ( each student will deploy his Jenkins server)Continuous Integration setup – Jenkins and GithubAutomation Maven test, Compile and Package ( .jar) using JenkinsUnderstand sonarqube ( deployed by trainer)Students to Integrate Jenkins (CI) server with Sonarqube  ( lab by students)Sonarqube –static code analysis  and set quality gatesUnderstand Nexus ( deployed by trainer) Nexus storage artifact integration                                                            1\n",
       "OpenStack ReleasesOpenStack Project Overview Part-1Openstack-project-overview-Part-2Role-of-openstack-ProjectsSystem RequirementsDeploy 3 ubuntu serversPrepare Contoller NodePrepare Network NodePrepare Compute NodePrepare networking on Contoller NodePrepare Networking on Network NodePrepare Networking Compute NodeVerify your node communication NTP and Sysctl.confWhere are we in the labMySql -Server OverviewRole of MySql DB in OpenStackInstall and configure MySql-ServerMysql Management CLI basedMySql Management GUI basedWhere are we in the lab                                                                                                                                                                                                                                                                                                                                                         1\n",
       "Overview  Azure PortalManagement Activity and Billing overviewAzure PricingAn overview of  AzureAzure Virtual Machines- An overviewAzure Block Storage- An OverviewAzure Endpoints -An OverviewAzure Roles  -An overviewAzure SQL Azure – An overviewAzure HD Insight –An overviewAzure websites – AN overviewAzure Networking – AN overviewLaunch Windows server 2012 R2 InstanceDownload RDP shortcut clientconnect to the  Windows 2012 Virtual machineUpgrade your Virtual machine to hardware planTerminate the Windows server 2012 InstanceWhy endpoints are importantEdit EndpointsAdd endpointsRemove endpointsCreate Block storage volumeAttach volume to windows Server 2012R2Format the volume using NTFS from VMDetach and delete volume                                                                                                                                                                         1\n",
       "Overview Amazon Management ConsoleManagement Activity and Billing overviewAmazon PricingAn overview of AWSEC2- An overviewEBS- An OverviewSecurity Group-An OverviewElastic IP- An overviewCloud Front-An OverviewS3- An overviewGlacier- An overviewIAM – An OverviewRDS- AN overviewLaunch Windows server 2012 InstanceDecrypt Password and download RDP shortcut clientconnect to the EC2 Windows 2012 instanceTerminate the Windows server 2012 InstanceCreating Security GroupsModify Security GroupsDelete Security GroupsCreate Standard VolumeCreate and delete snapshotsCreate Provisioned I/o VolumeAssign volumes to Windows server 2012 and Ubuntu 14.04 serverDisassociate and Delete volumes                                                                                                                                                                                                                   1\n",
       "TCP, HTTPRESTFUL APIsWhy REST?ConceptsFeaturesHTTP VerbsXML and JSONHATEOASAPI ToolsCurlPOSTMANHands on ExercisesUnderstand REST in HTTP with ExamplesThe evolution of microservicesWhat are microservices?Microservices – the honeycomb analogyPrinciples of microservicesof microservicesChallenges for a successful microservice architectureMicroservices examplesMicroservices benefitsRelationship with other architecture stylesMicroservice use casesBrief of Microservice PatternPresentation on Project A- application by trainerPresentation on Project B- application by trainerSetting up a development environmentUsing Spring Boot to build RESTful microservicesGetting started with Spring BootUnderstanding Maven build toolDeveloping the Spring Boot Java microservice using STSThe Spring Boot configurationImplementing a simple REST API using Spring boot [hands on]Imcume                           1\n",
       "Understand Nexus ( deployed by trainer)Nexus storage artifact integrationStore your end software products in NexusBitbucket – Create an account and fork your application code Git clone the Bitbucket code, Use maven to compile and package java source codeDeploy .war file manuallyBamboo CI – DeployBamboo CI on Ubuntu 14.04 server ( each student will deploy his Bamboo CI server)Continuous Integration setup –Bamboo CI and BitbucketUnderstand sonarqube ( deployed by trainer)Students to Integrate Bamboo CI server with SonarqubeSonarqube –static code analysis  and set quality gatesUnderstand Nexus ( deployed by trainer)Nexus storage artifact integrationStore your end software products in NexusAdd slave nodes to JenkinsAutomate deployment of your .warfile to serverBuilding Pipeline scripts and stages in SDLC                                                                                  1\n",
       "Overview Amazon Management ConsoleManagement Activity and Billing overviewAmazon PricingAn overview of AWSEC2- An overviewEBS- An OverviewSecurity Group-An OverviewElastic IP- An overviewCloud Front-An OverviewS3- An overviewGlacier- An overviewIAM – An OverviewRDS- An overviewLaunch Windows server 2012 InstanceDecrypt Password and download RDP shortcut clientconnect to the EC2 Windows 2012 instanceTerminate the Windows server 2012 InstanceCreating Security GroupsModify Security GroupsDelete Security GroupsCreate Standard VolumeCreate and delete snapshotsAssign volumes to Windows server 2012 and Ubuntu 14.04 serverDisassociate and Delete volumesLaunch Two Ubuntu EC2 Instances- apache web servers with user data                                                                                                                                                                              1\n",
       "Overview Google Compute Engine ConsoleManagement Activity and Billing overviewGoogle Compute Engine PricingAn overview of GCEGCE-VM’s- An overviewGCP – Cloud Storage – An overviewGCP – Cloud DataStoreGCP – Cloud SQLGCP – Networking ,Load BalancingGCP – Cloud DNSGCP – Cloud Dataproc ( BigData service)GCP – Cloud IAMIdentify project resources and quotasExplain the purpose of Google Cloud Resource Manager and Identity and Access ManagementUse the Google Developers Console to create and manage multiple projectsUse service accounts and permissions to share view-level access between projectsExplain how to create and move instancesCreate an instance using the Google Developers ConsoleConfigure the Cloud SDK on the Compute                                                                                                                                                                         1\n",
       "Overview Google Compute Engine ConsoleManagement Activity and Billing overviewGoogle Compute Engine PricingAn overview of GCEGCE-VM’s- An overviewGCE VM storage- An OverviewApp Engine – An overviewGCP – Container Engine-An OverviewGCP – Container Registry- An overviewGCP – Cloud Storage – An overviewGCP – Cloud DataStoreGCP – Cloud SQLGCP – Networking ,Load BalancingGCP – Cloud DNSGCP – Cloud Dataproc ( BigData service)GCP – Cloud IAMRole of the Cloud Architect.Learn about Solution Domains as an approach to design.Lab: Console and Cloud Shell.Lab: Projects.Lab: Infrastructure Preview.Cloud Virtual Networks (CVN), Projects, Networks, Sub Networks, IP addresses, Routes, Firewall rules.Sub Networks for resource management                                                                                                                                                                     1\n",
       "Module Introduction What is Virtualizationwhat are ContainersContainerization and virtualization differencesCase study : 100 developer environmentdifference between win and linux containers Docker ecosystem and componentsModule IntroductionInstall Docker on centos 7Module IntroductionDeploy ,Login, exit containerList, Start, Stop, restart containerswhere containers are storedworking with container hostnames working on multiple containers Containerization and virtualization differences Case study : 100 developer environmentdifference between win and linux container Docker ecosystem and componentsModule IntroductionInstall Docker on centos 7 Module IntroductionDeploy ,Login, exit containerList, Start, Stop, restart containerswhere containers are storedworking with container hostnamesworking on multiple containers Container stats and inspectContainer networkingDeleting containers    1\n",
       "Overview Amazon Management ConsoleManagement Activity and Billing overviewAmazon PricingAn overview of AWSEC2- An overviewEBS- An OverviewSecurity Group-An OverviewElastic IP- An overviewCloud Front-An OverviewS3- An overviewGlacier- An overviewIAM – An OverviewRDS- AN overviewLaunch Windows server 2012 InstanceDecrypt Password and download RDP shortcut clientConnect to the EC2 Windows 2012 instanceTerminate the Windows server 2012 InstanceCreating Security GroupsModify Security GroupsDelete Security GroupsCreate Standard VolumeCreate and delete snapshotsCreate Provisioned I/o VolumeAssign volumes to Windows server 2012 and Ubuntu 14.04 serverDisassociate and Delete volumes                                                                                                                                                                                                                   1\n",
       "What and why of  DevopsDevops Tools – Overview and UsecaseSource Control Management (SCM Tools)Continuous IntegrationStatic ode Analysis ToolStorage ArtifactsContinuous DeploymentContainerizationConfiguration ManagementSCM Live demoBitbucket – Create an account and fork your application codeGit clone the Bitbucket code, Use maven to compile and package java source codeDeploy .war file manuallyContinuous Integration Tool –  ( Hands on Lab by students)Bamboo CI – DeployBamboo CI on Ubuntu 14.04 server ( each student will deploy his Bamboo CI server)Continuous Integration setup –Bamboo CI and BitbucketUnderstand sonarqube ( deployed by trainer)Students to Integrate Bamboo CI server with SonarqubeSonarqube –static code analysis  and set quality gatesUnderstand Nexus ( deployed by trainer)Nexus storage artifact integrationStore                                                           1\n",
       "Module Introduction What is VirtualizationWhat are ContainersContainerization and virtualization differencesCase study : 100 developer environmentDifference between win and linux containersDocker ecosystem and componentsModule IntroductionInstalling Docker on Centos 7 Install Docker on Windows 2016 serverModule IntroductionDeploy ,Login, exit container List, Start, Stop, restart containers where containers are stored working with container hostnamesworking on multiple containersContainer stats and inspectContainer networking Deleting containersModule IntroductionInstall Docker on win 2016 serverWin container Deploy ,Login, exit container List, Start, Stop, restart containers where containers are storedworking with container hostnamesworking on multiple containersContainer inspect Deleting containers                                                                                   1\n",
       "What and why  of AnsibleAnsible use cases and terminologiesController serverNodesPlaybookAnsible towerAnsible–  Deploy a centos7 serverSsh to centos7 serverInstall and configure AnsibleCreate password less authentication keysDefine nodes to be managed by ansible control serverDeploy a RHEL server + 1 ubuntu 16.04 serverSsh to centos7 serverCreate password less authentication keysCreate a httpd playbook directoryWrite .yml filewrite httpd package install code for RHEL  serverwrite httpd service restart codewrite template resource type to push index.html and log.png to nodewrite user and group creation codeApply the playbook on centos node and validate if website is upCreate a apache2 playbook directoryWrite .yml filewrite apache2 package install code for ubuntu serverwrite                                                                                                               1\n",
       "Name: course_topics, dtype: int64"
      ]
     },
     "execution_count": 6,
     "metadata": {},
     "output_type": "execute_result"
    }
   ],
   "source": [
    "#Adding the frequency distribution to an existing dataframe\n",
    "import nltk\n",
    "from nltk import FreqDist\n",
    "pos_count=nltk.FreqDist(df['course_topics'])\n",
    "df['course_topics'].value_counts()"
   ]
  },
  {
   "cell_type": "markdown",
   "metadata": {},
   "source": [
    "- contraction is nothing but splitting but they keep all them as one word.\n",
    "\n",
    "- for example:-the word 'don't' is replaced to 'donot'"
   ]
  },
  {
   "cell_type": "code",
   "execution_count": 7,
   "metadata": {},
   "outputs": [],
   "source": [
    "contraction={\"ain't\": \"am not\",\n",
    "\"aren't\": \"are not\",\n",
    "\"can't\": \"cannot\",\n",
    "\"can't've\": \"cannot have\",\n",
    "\"'cause\": \"because\",\n",
    "\"could've\": \"could have\",\n",
    "\"couldn't\": \"could not\",\n",
    "\"couldn't've\": \"could not have\",\n",
    "\"didn't\": \"did not\",\n",
    "\"doesn't\": \"does not\",\n",
    "\"don't\": \"do not\",\n",
    "\"hadn't\": \"had not\",\n",
    "\"hadn't've\": \"had not have\",\n",
    "\"hasn't\": \"has not\",\n",
    "\"haven't\": \"have not\",\n",
    "\"he'd\": \"he would\",\n",
    "\"he'd've\": \"he would have\",\n",
    "\"he'll\": \"he will\",\n",
    "\"he's\": \"he is\",\n",
    "\"how'd\": \"how did\",\n",
    "\"how'll\": \"how will\",\n",
    "\"how's\": \"how is\",\n",
    "\"i'd\": \"i would\",\n",
    "\"i'll\": \"i will\",\n",
    "\"i'm\": \"i am\",\n",
    "\"i've\": \"i have\",\n",
    "\"isn't\": \"is not\",\n",
    "\"it'd\": \"it would\",\n",
    "\"it'll\": \"it will\",\n",
    "\"it's\": \"it is\",\n",
    "\"let's\": \"let us\",\n",
    "\"ma'am\": \"madam\",\n",
    "\"mayn't\": \"may not\",\n",
    "\"might've\": \"might have\",\n",
    "\"mightn't\": \"might not\",\n",
    " \"must've\": \"must have\",\n",
    "\"mustn't\": \"must not\",\n",
    "\"needn't\": \"need not\",\n",
    "\"oughtn't\": \"ought not\",\n",
    "\"shan't\": \"shall not\",\n",
    "\"sha'n't\": \"shall not\",\n",
    "\"she'd\": \"she would\",\n",
    "\"she'll\": \"she will\",\n",
    "\"she's\": \"she is\",\n",
    "\"should've\": \"should have\",\n",
    "\"shouldn't\": \"should not\",\n",
    "\"that'd\": \"that would\",\n",
    "\"that's\": \"that is\",\n",
    "\"there'd\": \"there had\",\n",
    "\"there's\": \"there is\",\n",
    "\"they'd\": \"they would\",\n",
    "\"they'll\": \"they will\",\n",
    "\"they're\": \"they are\",\n",
    "\"they've\": \"they have\",\n",
    "\"wasn't\": \"was not\",\n",
    "\"we'd\": \"we would\",\n",
    "\"we'll\": \"we will\",\n",
    "\"we're\": \"we are\",\n",
    "\"we've\": \"we have\",\n",
    "\"weren't\": \"were not\",\n",
    "\"what'll\": \"what will\",\n",
    "\"what're\": \"what are\",\n",
    "\"what's\": \"what is\",\n",
    "\"what've\": \"what have\",\n",
    "\"where'd\": \"where did\",\n",
    "\"where's\": \"where is\",\n",
    "\"who'll\": \"who will\",\n",
    "\"who's\": \"who is\",\n",
    "\"won't\": \"will not\",\n",
    "\"wouldn't\": \"would not\",\n",
    "\"you'd\": \"you would\",\n",
    "\"you'll\": \"you will\",\n",
    "\"you're\": \"you are\"}\n",
    "import string"
   ]
  },
  {
   "cell_type": "markdown",
   "metadata": {},
   "source": [
    "Here we download all necessary packages of nltk"
   ]
  },
  {
   "cell_type": "code",
   "execution_count": 8,
   "metadata": {},
   "outputs": [
    {
     "name": "stderr",
     "output_type": "stream",
     "text": [
      "[nltk_data] Downloading package stopwords to\n",
      "[nltk_data]     C:\\Users\\Asus\\AppData\\Roaming\\nltk_data...\n",
      "[nltk_data]   Unzipping corpora\\stopwords.zip.\n"
     ]
    },
    {
     "data": {
      "text/plain": [
       "True"
      ]
     },
     "execution_count": 8,
     "metadata": {},
     "output_type": "execute_result"
    }
   ],
   "source": [
    "import nltk\n",
    "nltk.download('stopwords')"
   ]
  },
  {
   "cell_type": "code",
   "execution_count": 9,
   "metadata": {},
   "outputs": [
    {
     "name": "stderr",
     "output_type": "stream",
     "text": [
      "[nltk_data] Downloading package punkt to\n",
      "[nltk_data]     C:\\Users\\Asus\\AppData\\Roaming\\nltk_data...\n",
      "[nltk_data]   Package punkt is already up-to-date!\n"
     ]
    },
    {
     "data": {
      "text/plain": [
       "True"
      ]
     },
     "execution_count": 9,
     "metadata": {},
     "output_type": "execute_result"
    }
   ],
   "source": [
    "import nltk \n",
    "nltk.download('punkt')"
   ]
  },
  {
   "cell_type": "code",
   "execution_count": 10,
   "metadata": {},
   "outputs": [
    {
     "name": "stderr",
     "output_type": "stream",
     "text": [
      "[nltk_data] Downloading package wordnet to\n",
      "[nltk_data]     C:\\Users\\Asus\\AppData\\Roaming\\nltk_data...\n",
      "[nltk_data]   Package wordnet is already up-to-date!\n"
     ]
    },
    {
     "data": {
      "text/plain": [
       "True"
      ]
     },
     "execution_count": 10,
     "metadata": {},
     "output_type": "execute_result"
    }
   ],
   "source": [
    "import nltk\n",
    "nltk.download('wordnet')"
   ]
  },
  {
   "cell_type": "markdown",
   "metadata": {},
   "source": [
    "- In natural language processing the useless words are called as a stopwords(for example:'is','a','an','the'etc),In order to improve the performance we have to remove these stopwords\n",
    "\n",
    "- lemmitization is way to extract the base form of the word,here we have to remove the inflectional ending of the word by using the vocabulary or morphological analysis.\n",
    "\n",
    "- stemming is also another way to extract the base form of the word just by chopping their ends (for example:-'writing' can replaced as 'writ')\n",
    "\n",
    "- stemm will not be the actual word where as the lemm will be the actual word\n",
    "\n",
    "- Note:But by using the 'PorterStemmer' and 'SnowBallStemmer' packages of stemming will display the root word of the given word\n",
    "\n",
    "- WordNetLemmatizer package will return the base form of the word depending upon wheather it is used as noun or verb"
   ]
  },
  {
   "cell_type": "code",
   "execution_count": 11,
   "metadata": {},
   "outputs": [],
   "source": [
    "#defining the function clear_content to remove the stopwords and process lemmitization\n",
    "def clear_content(text,remove_stopwords=True,lemmitization=True):\n",
    "    text=text.lower()#display the text in lower case\n",
    "    lm=WordNetLemmatizer()#call the WordNetLemmatizer funtion\n",
    "    if True:\n",
    "        text=text.split()#splitting the text data\n",
    "        new_text=[]#defining the new list\n",
    "#here we have to process the contraction of each word in the text and append it int the new list\n",
    "        for word in text:\n",
    "            if word in contraction:\n",
    "                new_text.append(contraction[word])\n",
    "            else:\n",
    "                new_text.append(word)\n",
    "        text=\" \".join(new_text)\n",
    "   #here we have to remove the stopwords        \n",
    "    if remove_stopwords:\n",
    "        text=text.split()\n",
    "        stops=set(stopwords.words('english')+list(string.punctuation))\n",
    "        text=[w for w in text if not w in stops]\n",
    "        text=\" \".join(text)\n",
    "    #here it has to return the base form of each word in the text\n",
    "    if lemmitization:\n",
    "        text=[lm.lemmatize(w) for w in word_tokenize(text)]\n",
    "        text=\" \".join(text)\n",
    "    return text"
   ]
  },
  {
   "cell_type": "markdown",
   "metadata": {},
   "source": [
    "Here we simply difining the new list and we have to append that cleaned content into that list"
   ]
  },
  {
   "cell_type": "code",
   "execution_count": 12,
   "metadata": {},
   "outputs": [
    {
     "name": "stdout",
     "output_type": "stream",
     "text": [
      "cleared the text\n"
     ]
    }
   ],
   "source": [
    "clear_text=[]\n",
    "for s in df.course_topics:\n",
    "    clear_text.append(clear_content(s,remove_stopwords=True,lemmitization=True))\n",
    "print(\"cleared the text\")"
   ]
  },
  {
   "cell_type": "code",
   "execution_count": 13,
   "metadata": {},
   "outputs": [
    {
     "data": {
      "text/plain": [
       "['openstack releasesopenstack project overview part-1openstack-project-overview-part-2role-of-openstack-projectssystem requirementsdeploy 3 ubuntu serversprepare contoller nodeprepare network nodeprepare compute nodeprepare networking contoller nodeprepare networking network nodeprepare networking compute nodeverify node communication ntp sysctl.confwhere labmysql -server overviewrole mysql db openstackinstall configure mysql-servermysql management cli basedmysql management gui basedwhere lab',\n",
       " 'overview amazon management consolemanagement activity billing overviewamazon pricingan overview awsec2- overviewebs- overviewsecurity group-an overviewelastic ip- overviewcloud front-an overviews3- overviewglacier- overviewiam – overviewrds- overviewlaunch window server 2012 instancedecrypt password download rdp shortcut clientconnect ec2 window 2012 instanceterminate window server 2012 instancecreating security groupsmodify security groupsdelete security groupscreate standard volumecreate delete snapshotscreate provisioned i/o volumeassign volume window server 2012 ubuntu 14.04 serverdisassociate delete volume',\n",
       " 'overview amazon management consolemanagement activity billing overviewamazon pricingan overview awsec2- overviewebs- overviewsecurity group-an overviewelastic ip- overviewcloud front-an overviews3- overviewglacier- overviewiam – overviewrds- overviewlaunch window server 2012 instancedecrypt password download rdp shortcut clientconnect ec2 window 2012 instanceterminate window server 2012 instancecreating security groupsmodify security groupsdelete security groupscreate standard volumecreate delete snapshotsassign volume window server 2012 ubuntu 14.04 serverdisassociate delete volumeslaunch two ubuntu ec2 instances- apache web server user data',\n",
       " 'overview amazon management consolemanagement activity billing overviewamazon pricingan overview awsec2- overviewebs- overviewsecurity group-an overviewelastic ip- overviewcloud front-an overviews3- overviewglacier- overviewiam – overviewrds- overviewlaunch window server 2012 instancedecrypt password download rdp shortcut clientconnect ec2 window 2012 instanceterminate window server 2012 instancecreating security groupsmodify security groupsdelete security groupscreate standard volumecreate delete snapshotscreate provisioned i/o volumeassign volume window server 2012 ubuntu 14.04 serverdisassociate delete volume',\n",
       " 'overview azure portalmanagement activity billing overviewazure pricingan overview azureazure virtual machines- overviewazure block storage- overviewazure endpoint -an overviewazure role -an overviewazure sql azure – overviewazure hd insight –an overviewazure website – overviewazure networking – overviewlaunch window server 2012 r2 instancedownload rdp shortcut clientconnect window 2012 virtual machineupgrade virtual machine hardware planterminate window server 2012 instancewhy endpoint importantedit endpointsadd endpointsremove endpointscreate block storage volumeattach volume window server 2012r2format volume using ntfs vmdetach delete volume',\n",
       " 'overview azure portalmanagement activity billing overviewazure pricingan overview azureazure virtual machines- overviewazure block storage- overviewazure endpoint -an overviewazure role -an overviewazure sql azure – overviewazure hd insight –an overviewazure website – overviewazure networking – overviewlaunch window server 2012 r2 instancedownload rdp shortcut clientconnect window 2012 virtual machineupgrade virtual machine hardware planterminate window server 2012 instancewhy endpoint importantedit endpointsadd endpointsremove endpointsrcreate block storage volumeattach volume window server 2012r2format volume using ntfs vmdetach delete volume',\n",
       " 'overview google compute engine consolemanagement activity billing overviewgoogle compute engine pricingan overview gcegce-vm ’ s- overviewgce vm storage- overviewapp engine – overviewgcp – container engine-an overviewgcp – container registry- overviewgcp – cloud storage – overviewgcp – cloud datastoregcp – cloud sqlgcp – networking , load balancinggcp – cloud dnsgcp – cloud dataproc bigdata service ) gcp – cloud iamrole cloud architect.learn solution domain approach design.lab : console cloud shell.lab : projects.lab : infrastructure preview.cloud virtual network ( cvn ) , project , network , sub network , ip address , route , firewall rules.sub network resource management',\n",
       " 'overview google compute engine consolemanagement activity billing overviewgoogle compute engine pricingan overview gcegce-vm ’ s- overviewgcp – cloud storage – overviewgcp – cloud datastoregcp – cloud sqlgcp – networking , load balancinggcp – cloud dnsgcp – cloud dataproc bigdata service ) gcp – cloud iamidentify project resource quotasexplain purpose google cloud resource manager identity access managementuse google developer console create manage multiple projectsuse service account permission share view-level access projectsexplain create move instancescreate instance using google developer consoleconfigure cloud sdk compute',\n",
       " 'introduction exam introduction examoverview 30 service – exam perspectiveexam tip 30 servicespoints rememberthe class divided 4 team , team work one case study come solution based technical business requirement customerthe class divided 4 team , team work one case study come solution based technical business requirement customerteam 1 present case study entire audience also outline technical business requirement customerprepare solution architecture diagram present classdescribe service google leveraged solutiondescribe role one service proposed solution',\n",
       " 'ansibleansible use case terminologiescontroller servernodesplaybookansible toweransible– deploy centos7 serverssh centos7 serverinstall configure ansiblecreate password le authentication keysdefine node managed ansible control serverdeploy rhel server 1 ubuntu 16.04 serverssh centos7 servercreate password le authentication keyscreate httpd playbook directorywrite .yml filewrite httpd package install code rhel serverwrite httpd service restart codewrite template resource type push index.html log.png nodewrite user group creation codeapply playbook centos node validate website upcreate apache2 playbook directorywrite .yml filewrite apache2 package install code ubuntu serverwrite',\n",
       " 'infrastructure-as-a-codechef component – 10000 foot overviewchef serverhosted chef serverchef development kitchef nodesrecipescookbookschef analyticschef push job serverdeploy ubuntu 14.04 serverssh ubuntu serverinstall chef-server ubuntu 14.04 linux serverinstall chef-manage chef-serverinstall configure chef-reportingcreate user account hosted chef servercreate organization hosted chef server download chef-starter kitdeploy ubuntu 14.04 serverssh ubuntu serverinstall configure chef development kitconfigure knife interact chef-serverconfigure knife interact hosted chef-serverconfigure ssl based connection chef serverinstall configure chef development kitsetup environment variablesconfigure knife interact chef-server',\n",
       " 'devopsdevops tool – overview usecasesource control management ( scm tool ) continuous integrationstatic ode analysis toolstorage artifactscontinuous deploymentcontainerizationconfiguration managementgithub – create account fork application codegit clone github code use maven compile package java source codedeploy .jar file manuallyjenkins – deploy jenkins ubuntu 14.04 server student deploy jenkins server ) continuous integration setup – jenkins githubautomation maven test , compile package .jar ) using jenkinsunderstand sonarqube deployed trainer ) student integrate jenkins ( ci ) server sonarqube lab student ) sonarqube –static code analysis set quality gatesunderstand nexus deployed trainer ) nexus storage artifact integration',\n",
       " 'devopsdevops tool – overview usecasesource control management ( scm tool ) continuous integrationstatic ode analysis toolstorage artifactscontinuous deploymentcontainerizationconfiguration managementscm live demobitbucket – create account fork application codegit clone bitbucket code , use maven compile package java source codedeploy .war file manuallycontinuous integration tool – hand lab student ) bamboo ci – deploybamboo ci ubuntu 14.04 server student deploy bamboo ci server ) continuous integration setup –bamboo ci bitbucketunderstand sonarqube deployed trainer ) student integrate bamboo ci server sonarqubesonarqube –static code analysis set quality gatesunderstand nexus deployed trainer ) nexus storage artifact integrationstore',\n",
       " 'understand nexus deployed trainer ) nexus storage artifact integrationstore end software product nexusbitbucket – create account fork application code git clone bitbucket code , use maven compile package java source codedeploy .war file manuallybamboo ci – deploybamboo ci ubuntu 14.04 server student deploy bamboo ci server ) continuous integration setup –bamboo ci bitbucketunderstand sonarqube deployed trainer ) student integrate bamboo ci server sonarqubesonarqube –static code analysis set quality gatesunderstand nexus deployed trainer ) nexus storage artifact integrationstore end software product nexusadd slave node jenkinsautomate deployment .warfile serverbuilding pipeline script stage sdlc',\n",
       " 'module introduction virtualizationwhat containerscontainerization virtualization differencescase study 100 developer environmentdifference win linux containersdocker ecosystem componentsmodule introductioninstalling docker centos 7 install docker window 2016 servermodule introductiondeploy , login , exit container list , start , stop , restart container container stored working container hostnamesworking multiple containerscontainer stats inspectcontainer networking deleting containersmodule introductioninstall docker win 2016 serverwin container deploy , login , exit container list , start , stop , restart container container storedworking container hostnamesworking multiple containerscontainer inspect deleting container',\n",
       " 'module introduction virtualizationwhat containerscontainerization virtualization differencescase study 100 developer environmentdifference win linux container docker ecosystem componentsmodule introductioninstall docker centos 7module introductiondeploy , login , exit containerlist , start , stop , restart containerswhere container storedworking container hostnames working multiple container containerization virtualization difference case study 100 developer environmentdifference win linux container docker ecosystem componentsmodule introductioninstall docker centos 7 module introductiondeploy , login , exit containerlist , start , stop , restart containerswhere container storedworking container hostnamesworking multiple container container stats inspectcontainer networkingdeleting container',\n",
       " 'tcp , httprestful apiswhy rest ? conceptsfeatureshttp verbsxml jsonhateoasapi toolscurlpostmanhands exercisesunderstand rest http examplesthe evolution microserviceswhat microservices ? microservices – honeycomb analogyprinciples microservicesof microserviceschallenges successful microservice architecturemicroservices examplesmicroservices benefitsrelationship architecture stylesmicroservice use casesbrief microservice patternpresentation project a- application trainerpresentation project b- application trainersetting development environmentusing spring boot build restful microservicesgetting started spring bootunderstanding maven build tooldeveloping spring boot java microservice using ststhe spring boot configurationimplementing simple rest api using spring boot [ hand on ] imcume',\n",
       " 'nfrastructure-as-a-codesaltstack component – 10000 foot overviewsaltstack serversaltstack minionstatefiledeploy centos-7 serverssh centos-7 serverinstall saltstack master centos7-serverconfigure saltstack masterdeploy ubuntu serverssh ubuntu serverinstall configure saltstack minion ubunturequest certificate saltstack masterapprove certificate master deploy rhel serverssh rhel serverinstall configure saltstack minion rhel7request certificate saltstack masterapprove certificate masterdeploy window server 2016 serverrdp win -2016 serverinstall configure saltstack minion widnows node managmentcreate statefile ubuntuadd code automate install software packageadd code automate start serviceadd code push file nodesadd code manage user group']"
      ]
     },
     "execution_count": 13,
     "metadata": {},
     "output_type": "execute_result"
    }
   ],
   "source": [
    "clear_text#display the data"
   ]
  },
  {
   "cell_type": "markdown",
   "metadata": {},
   "source": [
    "- re(regular expression)is the language for specifying text search engine,'re' helps us to match or find other string or set of strings using the specialized syntax held in pattern\n",
    "\n",
    "- re requires two things one is a pattern that we wish to search and other is corpus of text of which we need to search."
   ]
  },
  {
   "cell_type": "code",
   "execution_count": 14,
   "metadata": {},
   "outputs": [],
   "source": [
    "import re\n",
    "clean_content=[]\n",
    "for i in clear_text:\n",
    "#here it will removed the characters which one is same in qoutes  \n",
    "    clean_content.append(re.sub('\\\\b[A-Za-z]\\\\b|\\\\b[A-Za-z]\\\\b','',i))\n",
    "    "
   ]
  },
  {
   "cell_type": "code",
   "execution_count": 15,
   "metadata": {},
   "outputs": [
    {
     "data": {
      "text/plain": [
       "['openstack releasesopenstack project overview part-1openstack-project-overview-part-2role-of-openstack-projectssystem requirementsdeploy 3 ubuntu serversprepare contoller nodeprepare network nodeprepare compute nodeprepare networking contoller nodeprepare networking network nodeprepare networking compute nodeverify node communication ntp sysctl.confwhere labmysql -server overviewrole mysql db openstackinstall configure mysql-servermysql management cli basedmysql management gui basedwhere lab',\n",
       " 'overview amazon management consolemanagement activity billing overviewamazon pricingan overview awsec2- overviewebs- overviewsecurity group-an overviewelastic ip- overviewcloud front-an overviews3- overviewglacier- overviewiam – overviewrds- overviewlaunch window server 2012 instancedecrypt password download rdp shortcut clientconnect ec2 window 2012 instanceterminate window server 2012 instancecreating security groupsmodify security groupsdelete security groupscreate standard volumecreate delete snapshotscreate provisioned / volumeassign volume window server 2012 ubuntu 14.04 serverdisassociate delete volume',\n",
       " 'overview amazon management consolemanagement activity billing overviewamazon pricingan overview awsec2- overviewebs- overviewsecurity group-an overviewelastic ip- overviewcloud front-an overviews3- overviewglacier- overviewiam – overviewrds- overviewlaunch window server 2012 instancedecrypt password download rdp shortcut clientconnect ec2 window 2012 instanceterminate window server 2012 instancecreating security groupsmodify security groupsdelete security groupscreate standard volumecreate delete snapshotsassign volume window server 2012 ubuntu 14.04 serverdisassociate delete volumeslaunch two ubuntu ec2 instances- apache web server user data',\n",
       " 'overview amazon management consolemanagement activity billing overviewamazon pricingan overview awsec2- overviewebs- overviewsecurity group-an overviewelastic ip- overviewcloud front-an overviews3- overviewglacier- overviewiam – overviewrds- overviewlaunch window server 2012 instancedecrypt password download rdp shortcut clientconnect ec2 window 2012 instanceterminate window server 2012 instancecreating security groupsmodify security groupsdelete security groupscreate standard volumecreate delete snapshotscreate provisioned / volumeassign volume window server 2012 ubuntu 14.04 serverdisassociate delete volume',\n",
       " 'overview azure portalmanagement activity billing overviewazure pricingan overview azureazure virtual machines- overviewazure block storage- overviewazure endpoint -an overviewazure role -an overviewazure sql azure – overviewazure hd insight –an overviewazure website – overviewazure networking – overviewlaunch window server 2012 r2 instancedownload rdp shortcut clientconnect window 2012 virtual machineupgrade virtual machine hardware planterminate window server 2012 instancewhy endpoint importantedit endpointsadd endpointsremove endpointscreate block storage volumeattach volume window server 2012r2format volume using ntfs vmdetach delete volume',\n",
       " 'overview azure portalmanagement activity billing overviewazure pricingan overview azureazure virtual machines- overviewazure block storage- overviewazure endpoint -an overviewazure role -an overviewazure sql azure – overviewazure hd insight –an overviewazure website – overviewazure networking – overviewlaunch window server 2012 r2 instancedownload rdp shortcut clientconnect window 2012 virtual machineupgrade virtual machine hardware planterminate window server 2012 instancewhy endpoint importantedit endpointsadd endpointsremove endpointsrcreate block storage volumeattach volume window server 2012r2format volume using ntfs vmdetach delete volume',\n",
       " 'overview google compute engine consolemanagement activity billing overviewgoogle compute engine pricingan overview gcegce-vm ’ - overviewgce vm storage- overviewapp engine – overviewgcp – container engine-an overviewgcp – container registry- overviewgcp – cloud storage – overviewgcp – cloud datastoregcp – cloud sqlgcp – networking , load balancinggcp – cloud dnsgcp – cloud dataproc bigdata service ) gcp – cloud iamrole cloud architect.learn solution domain approach design.lab : console cloud shell.lab : projects.lab : infrastructure preview.cloud virtual network ( cvn ) , project , network , sub network , ip address , route , firewall rules.sub network resource management',\n",
       " 'overview google compute engine consolemanagement activity billing overviewgoogle compute engine pricingan overview gcegce-vm ’ - overviewgcp – cloud storage – overviewgcp – cloud datastoregcp – cloud sqlgcp – networking , load balancinggcp – cloud dnsgcp – cloud dataproc bigdata service ) gcp – cloud iamidentify project resource quotasexplain purpose google cloud resource manager identity access managementuse google developer console create manage multiple projectsuse service account permission share view-level access projectsexplain create move instancescreate instance using google developer consoleconfigure cloud sdk compute',\n",
       " 'introduction exam introduction examoverview 30 service – exam perspectiveexam tip 30 servicespoints rememberthe class divided 4 team , team work one case study come solution based technical business requirement customerthe class divided 4 team , team work one case study come solution based technical business requirement customerteam 1 present case study entire audience also outline technical business requirement customerprepare solution architecture diagram present classdescribe service google leveraged solutiondescribe role one service proposed solution',\n",
       " 'ansibleansible use case terminologiescontroller servernodesplaybookansible toweransible– deploy centos7 serverssh centos7 serverinstall configure ansiblecreate password le authentication keysdefine node managed ansible control serverdeploy rhel server 1 ubuntu 16.04 serverssh centos7 servercreate password le authentication keyscreate httpd playbook directorywrite .yml filewrite httpd package install code rhel serverwrite httpd service restart codewrite template resource type push index.html log.png nodewrite user group creation codeapply playbook centos node validate website upcreate apache2 playbook directorywrite .yml filewrite apache2 package install code ubuntu serverwrite',\n",
       " 'infrastructure-as--codechef component – 10000 foot overviewchef serverhosted chef serverchef development kitchef nodesrecipescookbookschef analyticschef push job serverdeploy ubuntu 14.04 serverssh ubuntu serverinstall chef-server ubuntu 14.04 linux serverinstall chef-manage chef-serverinstall configure chef-reportingcreate user account hosted chef servercreate organization hosted chef server download chef-starter kitdeploy ubuntu 14.04 serverssh ubuntu serverinstall configure chef development kitconfigure knife interact chef-serverconfigure knife interact hosted chef-serverconfigure ssl based connection chef serverinstall configure chef development kitsetup environment variablesconfigure knife interact chef-server',\n",
       " 'devopsdevops tool – overview usecasesource control management ( scm tool ) continuous integrationstatic ode analysis toolstorage artifactscontinuous deploymentcontainerizationconfiguration managementgithub – create account fork application codegit clone github code use maven compile package java source codedeploy .jar file manuallyjenkins – deploy jenkins ubuntu 14.04 server student deploy jenkins server ) continuous integration setup – jenkins githubautomation maven test , compile package .jar ) using jenkinsunderstand sonarqube deployed trainer ) student integrate jenkins ( ci ) server sonarqube lab student ) sonarqube –static code analysis set quality gatesunderstand nexus deployed trainer ) nexus storage artifact integration',\n",
       " 'devopsdevops tool – overview usecasesource control management ( scm tool ) continuous integrationstatic ode analysis toolstorage artifactscontinuous deploymentcontainerizationconfiguration managementscm live demobitbucket – create account fork application codegit clone bitbucket code , use maven compile package java source codedeploy .war file manuallycontinuous integration tool – hand lab student ) bamboo ci – deploybamboo ci ubuntu 14.04 server student deploy bamboo ci server ) continuous integration setup –bamboo ci bitbucketunderstand sonarqube deployed trainer ) student integrate bamboo ci server sonarqubesonarqube –static code analysis set quality gatesunderstand nexus deployed trainer ) nexus storage artifact integrationstore',\n",
       " 'understand nexus deployed trainer ) nexus storage artifact integrationstore end software product nexusbitbucket – create account fork application code git clone bitbucket code , use maven compile package java source codedeploy .war file manuallybamboo ci – deploybamboo ci ubuntu 14.04 server student deploy bamboo ci server ) continuous integration setup –bamboo ci bitbucketunderstand sonarqube deployed trainer ) student integrate bamboo ci server sonarqubesonarqube –static code analysis set quality gatesunderstand nexus deployed trainer ) nexus storage artifact integrationstore end software product nexusadd slave node jenkinsautomate deployment .warfile serverbuilding pipeline script stage sdlc',\n",
       " 'module introduction virtualizationwhat containerscontainerization virtualization differencescase study 100 developer environmentdifference win linux containersdocker ecosystem componentsmodule introductioninstalling docker centos 7 install docker window 2016 servermodule introductiondeploy , login , exit container list , start , stop , restart container container stored working container hostnamesworking multiple containerscontainer stats inspectcontainer networking deleting containersmodule introductioninstall docker win 2016 serverwin container deploy , login , exit container list , start , stop , restart container container storedworking container hostnamesworking multiple containerscontainer inspect deleting container',\n",
       " 'module introduction virtualizationwhat containerscontainerization virtualization differencescase study 100 developer environmentdifference win linux container docker ecosystem componentsmodule introductioninstall docker centos 7module introductiondeploy , login , exit containerlist , start , stop , restart containerswhere container storedworking container hostnames working multiple container containerization virtualization difference case study 100 developer environmentdifference win linux container docker ecosystem componentsmodule introductioninstall docker centos 7 module introductiondeploy , login , exit containerlist , start , stop , restart containerswhere container storedworking container hostnamesworking multiple container container stats inspectcontainer networkingdeleting container',\n",
       " 'tcp , httprestful apiswhy rest ? conceptsfeatureshttp verbsxml jsonhateoasapi toolscurlpostmanhands exercisesunderstand rest http examplesthe evolution microserviceswhat microservices ? microservices – honeycomb analogyprinciples microservicesof microserviceschallenges successful microservice architecturemicroservices examplesmicroservices benefitsrelationship architecture stylesmicroservice use casesbrief microservice patternpresentation project - application trainerpresentation project - application trainersetting development environmentusing spring boot build restful microservicesgetting started spring bootunderstanding maven build tooldeveloping spring boot java microservice using ststhe spring boot configurationimplementing simple rest api using spring boot [ hand on ] imcume',\n",
       " 'nfrastructure-as--codesaltstack component – 10000 foot overviewsaltstack serversaltstack minionstatefiledeploy centos-7 serverssh centos-7 serverinstall saltstack master centos7-serverconfigure saltstack masterdeploy ubuntu serverssh ubuntu serverinstall configure saltstack minion ubunturequest certificate saltstack masterapprove certificate master deploy rhel serverssh rhel serverinstall configure saltstack minion rhel7request certificate saltstack masterapprove certificate masterdeploy window server 2016 serverrdp win -2016 serverinstall configure saltstack minion widnows node managmentcreate statefile ubuntuadd code automate install software packageadd code automate start serviceadd code push file nodesadd code manage user group']"
      ]
     },
     "execution_count": 15,
     "metadata": {},
     "output_type": "execute_result"
    }
   ],
   "source": [
    "clean_content"
   ]
  },
  {
   "cell_type": "code",
   "execution_count": 16,
   "metadata": {},
   "outputs": [],
   "source": [
    "clear_course=[]\n",
    "for s in clean_content:\n",
    "#here it remove all characters which one same within qoutes\n",
    "    clear_course.append(re.sub(r'[_\"\\--;%()|+&=*%.,!?:#$@\\[\\]/<>]','',s))"
   ]
  },
  {
   "cell_type": "code",
   "execution_count": 17,
   "metadata": {},
   "outputs": [
    {
     "data": {
      "text/plain": [
       "['openstack releasesopenstack project overview partopenstackprojectoverviewpartroleofopenstackprojectssystem requirementsdeploy  ubuntu serversprepare contoller nodeprepare network nodeprepare compute nodeprepare networking contoller nodeprepare networking network nodeprepare networking compute nodeverify node communication ntp sysctlconfwhere labmysql server overviewrole mysql db openstackinstall configure mysqlservermysql management cli basedmysql management gui basedwhere lab',\n",
       " 'overview amazon management consolemanagement activity billing overviewamazon pricingan overview awsec overviewebs overviewsecurity groupan overviewelastic ip overviewcloud frontan overviews overviewglacier overviewiam – overviewrds overviewlaunch window server  instancedecrypt password download rdp shortcut clientconnect ec window  instanceterminate window server  instancecreating security groupsmodify security groupsdelete security groupscreate standard volumecreate delete snapshotscreate provisioned  volumeassign volume window server  ubuntu  serverdisassociate delete volume',\n",
       " 'overview amazon management consolemanagement activity billing overviewamazon pricingan overview awsec overviewebs overviewsecurity groupan overviewelastic ip overviewcloud frontan overviews overviewglacier overviewiam – overviewrds overviewlaunch window server  instancedecrypt password download rdp shortcut clientconnect ec window  instanceterminate window server  instancecreating security groupsmodify security groupsdelete security groupscreate standard volumecreate delete snapshotsassign volume window server  ubuntu  serverdisassociate delete volumeslaunch two ubuntu ec instances apache web server user data',\n",
       " 'overview amazon management consolemanagement activity billing overviewamazon pricingan overview awsec overviewebs overviewsecurity groupan overviewelastic ip overviewcloud frontan overviews overviewglacier overviewiam – overviewrds overviewlaunch window server  instancedecrypt password download rdp shortcut clientconnect ec window  instanceterminate window server  instancecreating security groupsmodify security groupsdelete security groupscreate standard volumecreate delete snapshotscreate provisioned  volumeassign volume window server  ubuntu  serverdisassociate delete volume',\n",
       " 'overview azure portalmanagement activity billing overviewazure pricingan overview azureazure virtual machines overviewazure block storage overviewazure endpoint an overviewazure role an overviewazure sql azure – overviewazure hd insight –an overviewazure website – overviewazure networking – overviewlaunch window server  r instancedownload rdp shortcut clientconnect window  virtual machineupgrade virtual machine hardware planterminate window server  instancewhy endpoint importantedit endpointsadd endpointsremove endpointscreate block storage volumeattach volume window server rformat volume using ntfs vmdetach delete volume',\n",
       " 'overview azure portalmanagement activity billing overviewazure pricingan overview azureazure virtual machines overviewazure block storage overviewazure endpoint an overviewazure role an overviewazure sql azure – overviewazure hd insight –an overviewazure website – overviewazure networking – overviewlaunch window server  r instancedownload rdp shortcut clientconnect window  virtual machineupgrade virtual machine hardware planterminate window server  instancewhy endpoint importantedit endpointsadd endpointsremove endpointsrcreate block storage volumeattach volume window server rformat volume using ntfs vmdetach delete volume',\n",
       " 'overview google compute engine consolemanagement activity billing overviewgoogle compute engine pricingan overview gcegcevm ’  overviewgce vm storage overviewapp engine – overviewgcp – container enginean overviewgcp – container registry overviewgcp – cloud storage – overviewgcp – cloud datastoregcp – cloud sqlgcp – networking  load balancinggcp – cloud dnsgcp – cloud dataproc bigdata service  gcp – cloud iamrole cloud architectlearn solution domain approach designlab  console cloud shelllab  projectslab  infrastructure previewcloud virtual network  cvn   project  network  sub network  ip address  route  firewall rulessub network resource management',\n",
       " 'overview google compute engine consolemanagement activity billing overviewgoogle compute engine pricingan overview gcegcevm ’  overviewgcp – cloud storage – overviewgcp – cloud datastoregcp – cloud sqlgcp – networking  load balancinggcp – cloud dnsgcp – cloud dataproc bigdata service  gcp – cloud iamidentify project resource quotasexplain purpose google cloud resource manager identity access managementuse google developer console create manage multiple projectsuse service account permission share viewlevel access projectsexplain create move instancescreate instance using google developer consoleconfigure cloud sdk compute',\n",
       " 'introduction exam introduction examoverview  service – exam perspectiveexam tip  servicespoints rememberthe class divided  team  team work one case study come solution based technical business requirement customerthe class divided  team  team work one case study come solution based technical business requirement customerteam  present case study entire audience also outline technical business requirement customerprepare solution architecture diagram present classdescribe service google leveraged solutiondescribe role one service proposed solution',\n",
       " 'ansibleansible use case terminologiescontroller servernodesplaybookansible toweransible– deploy centos serverssh centos serverinstall configure ansiblecreate password le authentication keysdefine node managed ansible control serverdeploy rhel server  ubuntu  serverssh centos servercreate password le authentication keyscreate httpd playbook directorywrite yml filewrite httpd package install code rhel serverwrite httpd service restart codewrite template resource type push indexhtml logpng nodewrite user group creation codeapply playbook centos node validate website upcreate apache playbook directorywrite yml filewrite apache package install code ubuntu serverwrite',\n",
       " 'infrastructureascodechef component –  foot overviewchef serverhosted chef serverchef development kitchef nodesrecipescookbookschef analyticschef push job serverdeploy ubuntu  serverssh ubuntu serverinstall chefserver ubuntu  linux serverinstall chefmanage chefserverinstall configure chefreportingcreate user account hosted chef servercreate organization hosted chef server download chefstarter kitdeploy ubuntu  serverssh ubuntu serverinstall configure chef development kitconfigure knife interact chefserverconfigure knife interact hosted chefserverconfigure ssl based connection chef serverinstall configure chef development kitsetup environment variablesconfigure knife interact chefserver',\n",
       " 'devopsdevops tool – overview usecasesource control management  scm tool  continuous integrationstatic ode analysis toolstorage artifactscontinuous deploymentcontainerizationconfiguration managementgithub – create account fork application codegit clone github code use maven compile package java source codedeploy jar file manuallyjenkins – deploy jenkins ubuntu  server student deploy jenkins server  continuous integration setup – jenkins githubautomation maven test  compile package jar  using jenkinsunderstand sonarqube deployed trainer  student integrate jenkins  ci  server sonarqube lab student  sonarqube –static code analysis set quality gatesunderstand nexus deployed trainer  nexus storage artifact integration',\n",
       " 'devopsdevops tool – overview usecasesource control management  scm tool  continuous integrationstatic ode analysis toolstorage artifactscontinuous deploymentcontainerizationconfiguration managementscm live demobitbucket – create account fork application codegit clone bitbucket code  use maven compile package java source codedeploy war file manuallycontinuous integration tool – hand lab student  bamboo ci – deploybamboo ci ubuntu  server student deploy bamboo ci server  continuous integration setup –bamboo ci bitbucketunderstand sonarqube deployed trainer  student integrate bamboo ci server sonarqubesonarqube –static code analysis set quality gatesunderstand nexus deployed trainer  nexus storage artifact integrationstore',\n",
       " 'understand nexus deployed trainer  nexus storage artifact integrationstore end software product nexusbitbucket – create account fork application code git clone bitbucket code  use maven compile package java source codedeploy war file manuallybamboo ci – deploybamboo ci ubuntu  server student deploy bamboo ci server  continuous integration setup –bamboo ci bitbucketunderstand sonarqube deployed trainer  student integrate bamboo ci server sonarqubesonarqube –static code analysis set quality gatesunderstand nexus deployed trainer  nexus storage artifact integrationstore end software product nexusadd slave node jenkinsautomate deployment warfile serverbuilding pipeline script stage sdlc',\n",
       " 'module introduction virtualizationwhat containerscontainerization virtualization differencescase study  developer environmentdifference win linux containersdocker ecosystem componentsmodule introductioninstalling docker centos  install docker window  servermodule introductiondeploy  login  exit container list  start  stop  restart container container stored working container hostnamesworking multiple containerscontainer stats inspectcontainer networking deleting containersmodule introductioninstall docker win  serverwin container deploy  login  exit container list  start  stop  restart container container storedworking container hostnamesworking multiple containerscontainer inspect deleting container',\n",
       " 'module introduction virtualizationwhat containerscontainerization virtualization differencescase study  developer environmentdifference win linux container docker ecosystem componentsmodule introductioninstall docker centos module introductiondeploy  login  exit containerlist  start  stop  restart containerswhere container storedworking container hostnames working multiple container containerization virtualization difference case study  developer environmentdifference win linux container docker ecosystem componentsmodule introductioninstall docker centos  module introductiondeploy  login  exit containerlist  start  stop  restart containerswhere container storedworking container hostnamesworking multiple container container stats inspectcontainer networkingdeleting container',\n",
       " 'tcp  httprestful apiswhy rest  conceptsfeatureshttp verbsxml jsonhateoasapi toolscurlpostmanhands exercisesunderstand rest http examplesthe evolution microserviceswhat microservices  microservices – honeycomb analogyprinciples microservicesof microserviceschallenges successful microservice architecturemicroservices examplesmicroservices benefitsrelationship architecture stylesmicroservice use casesbrief microservice patternpresentation project  application trainerpresentation project  application trainersetting development environmentusing spring boot build restful microservicesgetting started spring bootunderstanding maven build tooldeveloping spring boot java microservice using ststhe spring boot configurationimplementing simple rest api using spring boot  hand on  imcume',\n",
       " 'nfrastructureascodesaltstack component –  foot overviewsaltstack serversaltstack minionstatefiledeploy centos serverssh centos serverinstall saltstack master centosserverconfigure saltstack masterdeploy ubuntu serverssh ubuntu serverinstall configure saltstack minion ubunturequest certificate saltstack masterapprove certificate master deploy rhel serverssh rhel serverinstall configure saltstack minion rhelrequest certificate saltstack masterapprove certificate masterdeploy window server  serverrdp win  serverinstall configure saltstack minion widnows node managmentcreate statefile ubuntuadd code automate install software packageadd code automate start serviceadd code push file nodesadd code manage user group']"
      ]
     },
     "execution_count": 17,
     "metadata": {},
     "output_type": "execute_result"
    }
   ],
   "source": [
    "clear_course"
   ]
  },
  {
   "cell_type": "code",
   "execution_count": 18,
   "metadata": {},
   "outputs": [
    {
     "name": "stderr",
     "output_type": "stream",
     "text": [
      "[nltk_data] Downloading package words to\n",
      "[nltk_data]     C:\\Users\\Asus\\AppData\\Roaming\\nltk_data...\n",
      "[nltk_data]   Package words is already up-to-date!\n"
     ]
    },
    {
     "data": {
      "text/plain": [
       "True"
      ]
     },
     "execution_count": 18,
     "metadata": {},
     "output_type": "execute_result"
    }
   ],
   "source": [
    "import nltk\n",
    "nltk.download('words')"
   ]
  },
  {
   "cell_type": "markdown",
   "metadata": {},
   "source": [
    "- wordpunct_tokenize() is a function that devides the input text into the words and punctuation.\n",
    "\n",
    "- isalpha()-this is a function that cheacks wheather the string contains alphabetic characters only,that the string doesnot contains any whitespaces and digits "
   ]
  },
  {
   "cell_type": "code",
   "execution_count": 19,
   "metadata": {},
   "outputs": [],
   "source": [
    "import nltk\n",
    "words=set(nltk.corpus.words.words())#set the english words in the nltk laibrary\n",
    "clean=[]\n",
    "for i in clear_course:\n",
    "    clean.append(\" \".join(w for w in nltk.wordpunct_tokenize(i) if w.lower() in words or not w.isalpha()))"
   ]
  },
  {
   "cell_type": "code",
   "execution_count": 20,
   "metadata": {},
   "outputs": [
    {
     "data": {
      "text/plain": [
       "['project overview network compute network compute node communication server configure management management lab',\n",
       " 'overview management activity billing overview – window server password window window server security security security standard delete volume window server delete volume',\n",
       " 'overview management activity billing overview – window server password window window server security security security standard delete volume window server delete two apache web server user data',\n",
       " 'overview management activity billing overview – window server password window window server security security security standard delete volume window server delete volume',\n",
       " 'overview azure activity billing overview virtual block storage an role an azure – insight – an – – window server r window virtual virtual machine hardware window server block storage volume window server volume delete volume',\n",
       " 'overview azure activity billing overview virtual block storage an role an azure – insight – an – – window server r window virtual virtual machine hardware window server block storage volume window server volume delete volume',\n",
       " 'overview compute engine activity billing compute engine overview ’ storage engine – – container – container registry – cloud storage – – cloud – cloud – load – cloud – cloud service – cloud cloud solution domain approach console cloud infrastructure virtual network project network sub network address route network resource management',\n",
       " 'overview compute engine activity billing compute engine overview ’ – cloud storage – – cloud – cloud – load – cloud – cloud service – cloud project resource purpose cloud resource manager identity access developer console create manage multiple service account permission share access create move instance developer cloud compute',\n",
       " 'introduction exam introduction service – exam tip class divided team team work one case study come solution based technical business requirement class divided team team work one case study come solution based technical business requirement present case study entire audience also outline technical business requirement solution architecture diagram present service role one service solution',\n",
       " 'use case – deploy configure password authentication node control server password authentication playbook package install code service restart template resource type push user group creation playbook node validate apache playbook apache package install code',\n",
       " 'component – foot chef development push job configure user account chef organization chef server configure chef development knife interact knife interact based connection chef configure chef development environment knife interact',\n",
       " 'tool – overview control management tool continuous ode analysis – create account fork application clone code use compile package source jar file – deploy server student deploy server continuous integration setup – test compile package jar trainer student integrate server lab student – static code analysis set quality nexus trainer nexus storage artifact integration',\n",
       " 'tool – overview control management tool continuous ode analysis live – create account fork application clone code use compile package source war file integration tool – hand lab student bamboo – server student deploy bamboo server continuous integration setup – bamboo trainer student integrate bamboo server – static code analysis set quality nexus trainer nexus storage artifact',\n",
       " 'understand nexus trainer nexus storage artifact end product – create account fork application code git clone code use compile package source war file – server student deploy bamboo server continuous integration setup – bamboo trainer student integrate bamboo server – static code analysis set quality nexus trainer nexus storage artifact end product slave node deployment pipeline script stage',\n",
       " 'module introduction study developer win ecosystem docker install docker window login exit container list start stop restart container container working container multiple docker win container deploy login exit container list start stop restart container container container multiple inspect container',\n",
       " 'module introduction study developer win container docker ecosystem docker module login exit start stop restart container container working multiple container difference case study developer win container docker ecosystem docker module login exit start stop restart container container multiple container container container',\n",
       " 'rest rest evolution – honeycomb successful architecture use project application project application development spring boot build restful spring build spring boot spring boot simple rest spring boot hand on',\n",
       " 'component – foot master configure minion certificate certificate master deploy configure minion certificate certificate window server win configure minion node code install code start code push file code manage user group']"
      ]
     },
     "execution_count": 20,
     "metadata": {},
     "output_type": "execute_result"
    }
   ],
   "source": [
    "#append the cleaned content in the list and display it\n",
    "clean"
   ]
  },
  {
   "cell_type": "code",
   "execution_count": 21,
   "metadata": {},
   "outputs": [],
   "source": [
    "#create a new column in the dataframe called as key_word which contains the cleaned data\n",
    "df['key_word']=clean"
   ]
  },
  {
   "cell_type": "code",
   "execution_count": 22,
   "metadata": {},
   "outputs": [
    {
     "data": {
      "text/html": [
       "<div>\n",
       "<style scoped>\n",
       "    .dataframe tbody tr th:only-of-type {\n",
       "        vertical-align: middle;\n",
       "    }\n",
       "\n",
       "    .dataframe tbody tr th {\n",
       "        vertical-align: top;\n",
       "    }\n",
       "\n",
       "    .dataframe thead th {\n",
       "        text-align: right;\n",
       "    }\n",
       "</style>\n",
       "<table border=\"1\" class=\"dataframe\">\n",
       "  <thead>\n",
       "    <tr style=\"text-align: right;\">\n",
       "      <th></th>\n",
       "      <th>courses</th>\n",
       "      <th>course_topics</th>\n",
       "      <th>key_word</th>\n",
       "    </tr>\n",
       "  </thead>\n",
       "  <tbody>\n",
       "    <tr>\n",
       "      <th>0</th>\n",
       "      <td>Openstack</td>\n",
       "      <td>OpenStack ReleasesOpenStack Project Overview P...</td>\n",
       "      <td>project overview network compute network compu...</td>\n",
       "    </tr>\n",
       "    <tr>\n",
       "      <th>1</th>\n",
       "      <td>Aws cloud_solution Architect</td>\n",
       "      <td>Overview Amazon Management ConsoleManagement A...</td>\n",
       "      <td>overview management activity billing overview ...</td>\n",
       "    </tr>\n",
       "    <tr>\n",
       "      <th>2</th>\n",
       "      <td>Aws developer Associate</td>\n",
       "      <td>Overview Amazon Management ConsoleManagement A...</td>\n",
       "      <td>overview management activity billing overview ...</td>\n",
       "    </tr>\n",
       "    <tr>\n",
       "      <th>3</th>\n",
       "      <td>Aws sysops Associate</td>\n",
       "      <td>Overview Amazon Management ConsoleManagement A...</td>\n",
       "      <td>overview management activity billing overview ...</td>\n",
       "    </tr>\n",
       "    <tr>\n",
       "      <th>4</th>\n",
       "      <td>Azure cloud Architect</td>\n",
       "      <td>Overview  Azure PortalManagement Activity and ...</td>\n",
       "      <td>overview azure activity billing overview virtu...</td>\n",
       "    </tr>\n",
       "  </tbody>\n",
       "</table>\n",
       "</div>"
      ],
      "text/plain": [
       "                        courses  \\\n",
       "0                     Openstack   \n",
       "1  Aws cloud_solution Architect   \n",
       "2       Aws developer Associate   \n",
       "3          Aws sysops Associate   \n",
       "4         Azure cloud Architect   \n",
       "\n",
       "                                       course_topics  \\\n",
       "0  OpenStack ReleasesOpenStack Project Overview P...   \n",
       "1  Overview Amazon Management ConsoleManagement A...   \n",
       "2  Overview Amazon Management ConsoleManagement A...   \n",
       "3  Overview Amazon Management ConsoleManagement A...   \n",
       "4  Overview  Azure PortalManagement Activity and ...   \n",
       "\n",
       "                                            key_word  \n",
       "0  project overview network compute network compu...  \n",
       "1  overview management activity billing overview ...  \n",
       "2  overview management activity billing overview ...  \n",
       "3  overview management activity billing overview ...  \n",
       "4  overview azure activity billing overview virtu...  "
      ]
     },
     "execution_count": 22,
     "metadata": {},
     "output_type": "execute_result"
    }
   ],
   "source": [
    "df.head()"
   ]
  },
  {
   "cell_type": "markdown",
   "metadata": {},
   "source": [
    "- 'Tfidf' is the short form of the 'term frequency inverse document frequency' which converts the collection of document into the matrix form\n",
    "\n",
    "- 'fit_tranform' calculates the mean of some columns from data and replaces the missing values with these mean of the training data\n",
    "\n",
    "- In some cases we write fit and transform saperately because we split the data into the training and test data,here the fit calculates the mean of the training data and transform replaces the missing values of the both training and test data "
   ]
  },
  {
   "cell_type": "code",
   "execution_count": 23,
   "metadata": {},
   "outputs": [],
   "source": [
    "#tf-idf vectorizer\n",
    "tfidf=TfidfVectorizer()\n",
    "count_matrix=tfidf.fit_transform(df['key_word'])"
   ]
  },
  {
   "cell_type": "code",
   "execution_count": 24,
   "metadata": {},
   "outputs": [
    {
     "data": {
      "text/plain": [
       "(18, 167)"
      ]
     },
     "execution_count": 24,
     "metadata": {},
     "output_type": "execute_result"
    }
   ],
   "source": [
    "#display the shape of the document term matrix\n",
    "count_matrix.shape"
   ]
  },
  {
   "cell_type": "markdown",
   "metadata": {},
   "source": [
    "Cosine similarity\n",
    "\n",
    "  - cosine similarity is a metrics which measures how similar the documents are irrespective of their size.\n",
    "  \n",
    "  - It measures the cosine of the angle between the two vectors projected in the multidimentional space.\n",
    "  \n",
    "  - commonly used approach to match the similar documents based on counting the maximum number of common words between the documents."
   ]
  },
  {
   "cell_type": "code",
   "execution_count": 25,
   "metadata": {},
   "outputs": [],
   "source": [
    "from sklearn.metrics.pairwise import cosine_similarity"
   ]
  },
  {
   "cell_type": "code",
   "execution_count": 26,
   "metadata": {},
   "outputs": [
    {
     "data": {
      "text/plain": [
       "array([[1.        , 0.11728887, 0.11764482, 0.11728887, 0.05146801,\n",
       "        0.05146801, 0.33789583, 0.15866821, 0.        , 0.08806433,\n",
       "        0.0623506 , 0.09296508, 0.08500455, 0.04177977, 0.        ,\n",
       "        0.        , 0.03906292, 0.09960087],\n",
       "       [0.11728887, 1.        , 0.8883663 , 1.        , 0.45938999,\n",
       "        0.45938999, 0.04630837, 0.03925125, 0.        , 0.05937912,\n",
       "        0.01444685, 0.08097452, 0.07404073, 0.04751184, 0.03044942,\n",
       "        0.        , 0.        , 0.06108066],\n",
       "       [0.11764482, 0.8883663 , 1.        , 0.8883663 , 0.38853665,\n",
       "        0.38853665, 0.04188132, 0.03549886, 0.        , 0.12983597,\n",
       "        0.02989913, 0.08970086, 0.08201984, 0.05729299, 0.02753848,\n",
       "        0.        , 0.        , 0.07594856],\n",
       "       [0.11728887, 1.        , 0.8883663 , 1.        , 0.45938999,\n",
       "        0.45938999, 0.04630837, 0.03925125, 0.        , 0.05937912,\n",
       "        0.01444685, 0.08097452, 0.07404073, 0.04751184, 0.03044942,\n",
       "        0.        , 0.        , 0.06108066],\n",
       "       [0.05146801, 0.45938999, 0.38853665, 0.45938999, 1.        ,\n",
       "        1.        , 0.08459137, 0.04070208, 0.00958527, 0.01489024,\n",
       "        0.01054247, 0.0671858 , 0.06143273, 0.06283628, 0.02222022,\n",
       "        0.        , 0.        , 0.04457312],\n",
       "       [0.05146801, 0.45938999, 0.38853665, 0.45938999, 1.        ,\n",
       "        1.        , 0.08459137, 0.04070208, 0.00958527, 0.01489024,\n",
       "        0.01054247, 0.0671858 , 0.06143273, 0.06283628, 0.02222022,\n",
       "        0.        , 0.        , 0.04457312],\n",
       "       [0.33789583, 0.04630837, 0.04188132, 0.04630837, 0.08459137,\n",
       "        0.08459137, 1.        , 0.74555507, 0.04547887, 0.01992777,\n",
       "        0.        , 0.02255837, 0.02062671, 0.01793803, 0.13313083,\n",
       "        0.1252343 , 0.01345452, 0.        ],\n",
       "       [0.15866821, 0.03925125, 0.03549886, 0.03925125, 0.04070208,\n",
       "        0.04070208, 0.74555507, 1.        , 0.03131157, 0.04089285,\n",
       "        0.00559201, 0.03619798, 0.03309837, 0.02975784, 0.02731916,\n",
       "        0.03854812, 0.01380469, 0.01202197],\n",
       "       [0.        , 0.        , 0.        , 0.        , 0.00958527,\n",
       "        0.00958527, 0.04547887, 0.03131157, 1.        , 0.05182928,\n",
       "        0.01651554, 0.        , 0.        , 0.        , 0.02885452,\n",
       "        0.05971468, 0.00866315, 0.        ],\n",
       "       [0.08806433, 0.05937912, 0.12983597, 0.05937912, 0.01489024,\n",
       "        0.01489024, 0.01992777, 0.04089285, 0.05182928, 1.        ,\n",
       "        0.05493476, 0.14924893, 0.10529467, 0.12728729, 0.04737684,\n",
       "        0.02900008, 0.00882688, 0.23097395],\n",
       "       [0.0623506 , 0.01444685, 0.02989913, 0.01444685, 0.01054247,\n",
       "        0.01054247, 0.        , 0.00559201, 0.01651554, 0.05493476,\n",
       "        1.        , 0.01675773, 0.01532278, 0.01457573, 0.        ,\n",
       "        0.        , 0.03276629, 0.12518971],\n",
       "       [0.09296508, 0.08097452, 0.08970086, 0.08097452, 0.0671858 ,\n",
       "        0.0671858 , 0.02255837, 0.03619798, 0.        , 0.14924893,\n",
       "        0.01675773, 1.        , 0.7862122 , 0.6129104 , 0.01119353,\n",
       "        0.        , 0.02641134, 0.11205247],\n",
       "       [0.08500455, 0.07404073, 0.08201984, 0.07404073, 0.06143273,\n",
       "        0.06143273, 0.02062671, 0.03309837, 0.        , 0.10529467,\n",
       "        0.01532278, 0.7862122 , 1.        , 0.70544332, 0.00511752,\n",
       "        0.        , 0.03673671, 0.09517868],\n",
       "       [0.04177977, 0.04751184, 0.05729299, 0.04751184, 0.06283628,\n",
       "        0.06283628, 0.01793803, 0.02975784, 0.        , 0.12728729,\n",
       "        0.01457573, 0.6129104 , 0.70544332, 1.        , 0.00486802,\n",
       "        0.        , 0.02297235, 0.13212298],\n",
       "       [0.        , 0.03044942, 0.02753848, 0.03044942, 0.02222022,\n",
       "        0.02222022, 0.13313083, 0.02731916, 0.02885452, 0.04737684,\n",
       "        0.        , 0.01119353, 0.00511752, 0.00486802, 1.        ,\n",
       "        0.93599119, 0.        , 0.05496949],\n",
       "       [0.        , 0.        , 0.        , 0.        , 0.        ,\n",
       "        0.        , 0.1252343 , 0.03854812, 0.05971468, 0.02900008,\n",
       "        0.        , 0.        , 0.        , 0.        , 0.93599119,\n",
       "        1.        , 0.        , 0.03367656],\n",
       "       [0.03906292, 0.        , 0.        , 0.        , 0.        ,\n",
       "        0.        , 0.01345452, 0.01380469, 0.00866315, 0.00882688,\n",
       "        0.03276629, 0.02641134, 0.03673671, 0.02297235, 0.        ,\n",
       "        0.        , 1.        , 0.        ],\n",
       "       [0.09960087, 0.06108066, 0.07594856, 0.06108066, 0.04457312,\n",
       "        0.04457312, 0.        , 0.01202197, 0.        , 0.23097395,\n",
       "        0.12518971, 0.11205247, 0.09517868, 0.13212298, 0.05496949,\n",
       "        0.03367656, 0.        , 1.        ]])"
      ]
     },
     "execution_count": 26,
     "metadata": {},
     "output_type": "execute_result"
    }
   ],
   "source": [
    "cos_sim=cosine_similarity(count_matrix,count_matrix)\n",
    "cos_sim"
   ]
  },
  {
   "cell_type": "code",
   "execution_count": 27,
   "metadata": {},
   "outputs": [],
   "source": [
    "#Recommendation\n",
    "indices=pd.Series(df.index)\n",
    "#defining the function that takes the title\n",
    "def recommendation(title,cos_sim=cos_sim):\n",
    "    recommend=[]\n",
    "    #get the title of the index\n",
    "    title_index=df[(df['courses']==title)].index[0]\n",
    "    #getting the index that matches the title index\n",
    "    idx=indices[indices==title_index].index[0]\n",
    "    #creating the series with simmilarity score in descending order\n",
    "    sim_score=pd.Series(cos_sim[idx]).sort_values(ascending=False)\n",
    "    top_10_course=list(sim_score.iloc[1:6].index)\n",
    "    \n",
    "    #populating the best matches\n",
    "    for i in top_10_course:\n",
    "        recommend.append(list(df.index)[i])\n",
    "    return recommend\n",
    "    "
   ]
  },
  {
   "cell_type": "markdown",
   "metadata": {},
   "source": [
    "The system recommends you the top 5 courses which is similar to the title of the course of users interest"
   ]
  },
  {
   "cell_type": "code",
   "execution_count": 28,
   "metadata": {},
   "outputs": [
    {
     "data": {
      "text/plain": [
       "[3, 2, 5, 4, 0]"
      ]
     },
     "execution_count": 28,
     "metadata": {},
     "output_type": "execute_result"
    }
   ],
   "source": [
    "#here we call the function defining the recommendation\n",
    "recommendation('Aws cloud_solution Architect')"
   ]
  },
  {
   "cell_type": "code",
   "execution_count": 29,
   "metadata": {},
   "outputs": [
    {
     "name": "stdout",
     "output_type": "stream",
     "text": [
      "3 ------- Aws sysops Associate\n",
      "2 ------- Aws developer Associate\n",
      "5 ------- Azure cloud Implementing\n",
      "4 ------- Azure cloud Architect\n",
      "0 ------- Openstack\n"
     ]
    }
   ],
   "source": [
    "r=recommendation('Aws cloud_solution Architect')\n",
    "for i in r:\n",
    "    print(i,'-------',df.iloc[i,0])"
   ]
  },
  {
   "cell_type": "code",
   "execution_count": 30,
   "metadata": {},
   "outputs": [
    {
     "name": "stdout",
     "output_type": "stream",
     "text": [
      "6 -------- Google cloud Architect\n",
      "7 -------- Google cloud System Operation\n",
      "2 -------- Aws developer Associate\n",
      "1 -------- Aws cloud_solution Architect\n",
      "3 -------- Aws sysops Associate\n"
     ]
    }
   ],
   "source": [
    "r=recommendation('Openstack')\n",
    "for i in r:\n",
    "    print(i,'--------',df.iloc[i,0])"
   ]
  },
  {
   "cell_type": "code",
   "execution_count": 31,
   "metadata": {},
   "outputs": [
    {
     "name": "stdout",
     "output_type": "stream",
     "text": [
      "7 --------- Google cloud System Operation\n",
      "0 --------- Openstack\n",
      "14 --------- Docker technical essential\n",
      "15 --------- Kubernet technical essential\n",
      "4 --------- Azure cloud Architect\n"
     ]
    }
   ],
   "source": [
    "r=recommendation('Google cloud Architect')\n",
    "for i in r:\n",
    "    print(i,'---------',df.iloc[i,0])"
   ]
  },
  {
   "cell_type": "code",
   "execution_count": 32,
   "metadata": {},
   "outputs": [
    {
     "name": "stdout",
     "output_type": "stream",
     "text": [
      "5 --------- Azure cloud Implementing\n",
      "1 --------- Aws cloud_solution Architect\n",
      "3 --------- Aws sysops Associate\n",
      "2 --------- Aws developer Associate\n",
      "6 --------- Google cloud Architect\n"
     ]
    }
   ],
   "source": [
    "r=recommendation('Azure cloud Architect')\n",
    "for i in r:\n",
    "    print(i,'---------',df.iloc[i,0])"
   ]
  },
  {
   "cell_type": "markdown",
   "metadata": {},
   "source": [
    "# Applications of the NLP\n",
    "- Machine translation is the process of translating the one source language or text into the another language.\n",
    "\n",
    "- Text summerization is to create short or accurate summary of the long text,automatic text summarization helps with relevant information in less time.\n",
    "\n",
    "- Another application of the NLP is queation-answering, the queation-answering is the computer science desciplane within the feild of AI and NLP.It focuses on building the system that automatically answer the queations posted by the human being in the natural language.\n",
    "\n",
    "- Another application of the NLP is sentimental analysis,it is used to identify the sentiment or emotions of the several posts,companies are using the sentimental analysis, an application of NLP to identify the opinion of their customers online.It will help the companies to understand what will their customers think about the products and services "
   ]
  },
  {
   "cell_type": "code",
   "execution_count": null,
   "metadata": {},
   "outputs": [],
   "source": []
  }
 ],
 "metadata": {
  "kernelspec": {
   "display_name": "Python 3",
   "language": "python",
   "name": "python3"
  },
  "language_info": {
   "codemirror_mode": {
    "name": "ipython",
    "version": 3
   },
   "file_extension": ".py",
   "mimetype": "text/x-python",
   "name": "python",
   "nbconvert_exporter": "python",
   "pygments_lexer": "ipython3",
   "version": "3.7.3"
  }
 },
 "nbformat": 4,
 "nbformat_minor": 2
}
